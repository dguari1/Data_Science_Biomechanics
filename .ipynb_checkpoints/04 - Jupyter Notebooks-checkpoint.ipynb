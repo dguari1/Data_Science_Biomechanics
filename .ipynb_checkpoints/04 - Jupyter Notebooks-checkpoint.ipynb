{
 "cells": [
  {
   "attachments": {
    "60e1f9fb-43ab-4f3e-a260-b5169380cb10.jpg": {
     "image/jpeg": "[encoded data removed]"
    }
   },
   "cell_type": "markdown",
   "metadata": {},
   "source": [
    "## Introduction to Jupyter Notebooks\n",
    "\n",
    "Jupyter Notebooks allow you to quickly write code and visualize your results using a single environment. The name Jupyter emerged from **Ju**lia, **Pyt**hon, and **R**, three programming languages commonly used in Data Science and Statistics.\n",
    "\n",
    "Jupyter Notebooks are composed by *Cells*, and each cell can be compiled independently. Cells can have two types:\n",
    "\n",
    "### Code Cells\n",
    "\n",
    "Cells used to write and compile code. You can write your code in Python (or other language, depending on your Kernel) or Shell (start your code with !). \n",
    "\n",
    "### Markdown Cells\n",
    "\n",
    "Cells used to markdown code. Markdown is a easy-to-use plain language that allows you to create formatted text using a simple text editor (such as Jupyter Notebooks). \n",
    "\n",
    "Here is a complete guide for markdown https://www.markdownguide.org/\n",
    "\n",
    "To convert a cell to Markdown, simply press ``Esc`` + ``M``or select Markdown in the drop down menu. \n",
    "\n",
    "### Formatting Text\n",
    "\n",
    "#### Headings\n",
    "Markdown includes the option to create headings and subheadings to organize your document. Heading and subheading can be created by including the character ``#`` before the text\n",
    "\n",
    "```\n",
    "# -> Heading\n",
    "\n",
    "## -> Subheading\n",
    "\n",
    "### -> SubSubHeading \n",
    "\n",
    "#### -> SubSubSubHeading \n",
    "\n",
    ".\n",
    ".\n",
    ".\n",
    "```\n",
    "\n",
    "#### Lists\n",
    "You can create a list in markdown by starting the line with `*` or `-` or a number `1.`. For example\n",
    "\n",
    "- item 1\n",
    "- item 2\n",
    "* item 3\n",
    "* item 4\n",
    "\n",
    "\n",
    "1. item 1\n",
    "2. item 2\n",
    "3. item 3\n",
    "4. item 4\n",
    "\n",
    "### Adding Images\n",
    "There are three different ways to add images to a Markdown document \n",
    "1. Drop the image directly into the document\n",
    "![download.jpg](attachment:60e1f9fb-43ab-4f3e-a260-b5169380cb10.jpg)\n",
    "\n",
    "2. Save the image in your local folder and provide its location \n",
    "```\n",
    "![Alt Text](image_path.extension)\n",
    "```\n",
    "![Text](sample_image.jpeg)\n",
    "\n",
    "3. Provide a URL from an online image \n",
    "```\n",
    "![Image from Internet](https://w0.peakpx.com/wallpaper/823/616/HD-wallpaper-autumn-kitty-playing-fall-autumn-glow-fluffy-golden-kitty-adorable-cat-foliage-sweet-cute-leaves-rays-kitten.jpg)\n",
    "```\n",
    "![Image from Internet](https://w0.peakpx.com/wallpaper/823/616/HD-wallpaper-autumn-kitty-playing-fall-autumn-glow-fluffy-golden-kitty-adorable-cat-foliage-sweet-cute-leaves-rays-kitten.jpg)\n",
    "\n",
    "\n",
    "Markdown doesn't allow you to directly modify the position or size of images. If you need to adjust the image, you need to use html directly in markdown \n",
    "\n",
    "<img src='sample_image.jpeg' alt='image with html 'style=\"height:250px; width:50px; align:right\">"
   ]
  },
  {
   "cell_type": "markdown",
   "metadata": {},
   "source": []
  }
 ],
 "metadata": {
  "kernelspec": {
   "display_name": "Python 3",
   "language": "python",
   "name": "python3"
  },
  "language_info": {
   "codemirror_mode": {
    "name": "ipython",
    "version": 3
   },
   "file_extension": ".py",
   "mimetype": "text/x-python",
   "name": "python",
   "nbconvert_exporter": "python",
   "pygments_lexer": "ipython3",
   "version": "3.8.3"
  }
 },
 "nbformat": 4,
 "nbformat_minor": 4
}
