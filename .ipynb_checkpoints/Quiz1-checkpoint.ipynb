{
 "cells": [
  {
   "cell_type": "markdown",
   "metadata": {},
   "source": [
    "1) let Let x = 10 and y = 3. Write code to solve the following problem \n",
    "\n",
    "``` python \n",
    "u = x+y\n",
    "v = x*y\n",
    "w = x/y\n",
    "z = sin(x)\n",
    "r = u*sin(y)\n",
    "s = v*sin(w)\n",
    "p = (s**r)*log10(y)\n",
    "```\n",
    "\n",
    "hint: the answer is 0.014859574959039777\n",
    "\n",
    "\n",
    "2) Assign the string \"HELLO\" to the variable s1 and the string \"hello\" to the variable s2. \n",
    "\n",
    "    - are s1 and s2 equal? \n",
    "    - use the .lower() method to make them equal \n",
    "    - use the .upper() method to make them equal \n",
    "    \n",
    "    \n",
    "3) Assign the string \"Tom the cat stole the cheese\" to the variable s1. Use s1 to create a new variable s2 with the value \"Tom the mouse stole the cheese\".\n",
    "\n",
    "4) Ask the user for their name and print the number of letter is the name using f-strings. For instance, if the user enters the name 'Daniel', the computer should print \n",
    "```\n",
    "Your name has 6 letters\n",
    "```\n"
   ]
  }
 ],
 "metadata": {
  "kernelspec": {
   "display_name": "Python 3",
   "language": "python",
   "name": "python3"
  },
  "language_info": {
   "codemirror_mode": {
    "name": "ipython",
    "version": 3
   },
   "file_extension": ".py",
   "mimetype": "text/x-python",
   "name": "python",
   "nbconvert_exporter": "python",
   "pygments_lexer": "ipython3",
   "version": "3.8.3"
  }
 },
 "nbformat": 4,
 "nbformat_minor": 4
}
