{
 "cells": [
  {
   "cell_type": "markdown",
   "metadata": {},
   "source": [
    "# Iterations\n",
    "\n",
    "Many tasks require doing the same basic actions over and over again—iterating—in slightly different contexts. Since repetitive tasks appear so frequently, it is only natural that programming languages like Python would have direct methods of performing iteration.\n",
    "\n",
    "Next, we will learn the basic ways to program iterative tasks. \n",
    "\n",
    "# For Loops\n",
    "\n",
    "A for-loop is a set of instructions that is repeated, or iterated, for every value in a sequence. Sometimes for-loops are referred to as definite loops because they have a predefined start and end as bounded by the sequence.\n",
    "\n",
    "A for-loop is build as follows :\n",
    "```python\n",
    "\n",
    "for looping variable in sequence:\n",
    "    code block\n",
    "\n",
    "```"
   ]
  },
  {
   "cell_type": "code",
   "execution_count": 4,
   "metadata": {},
   "outputs": [
    {
     "name": "stdout",
     "output_type": "stream",
     "text": [
      "1\n",
      "2\n",
      "3\n",
      "4\n"
     ]
    }
   ],
   "source": [
    "\n",
    "for n in range(1,5):\n",
    "    print(n)\n"
   ]
  },
  {
   "cell_type": "markdown",
   "metadata": {},
   "source": [
    "WHAT IS HAPPENING?\n",
    "\n",
    "First, the function range(1, 4) is generating a list of numbers beginning at 1 and ending at 3.\n",
    "\n",
    "\n",
    "1. The variable n is assigned the value 1 and printed in the screen.\n",
    "\n",
    "2. The variable n is assigned the value 2 and printed in the screen.\n",
    "\n",
    "3. The variable i is assigned the value 3 and printed in the screen.\n",
    "\n",
    "With no more values to assign in the list, the for-loop is terminated with n = 3."
   ]
  },
  {
   "cell_type": "code",
   "execution_count": 14,
   "metadata": {},
   "outputs": [
    {
     "name": "stdout",
     "output_type": "stream",
     "text": [
      "\n",
      "apple\n",
      "appleapple\n",
      "appleappleapple\n",
      "appleappleappleapple\n",
      "appleappleappleappleapple\n",
      "appleappleappleappleappleapple\n",
      "appleappleappleappleappleappleapple\n",
      "appleappleappleappleappleappleappleapple\n",
      "appleappleappleappleappleappleappleappleapple\n",
      "appleappleappleappleappleappleappleappleappleapple\n"
     ]
    }
   ],
   "source": [
    "#example, print the word apple ten times\n",
    "for i in range(11):\n",
    "    print('apple'*i)"
   ]
  },
  {
   "cell_type": "code",
   "execution_count": 15,
   "metadata": {},
   "outputs": [
    {
     "name": "stdout",
     "output_type": "stream",
     "text": [
      "a\n",
      "p\n",
      "p\n",
      "l\n",
      "e\n"
     ]
    }
   ],
   "source": [
    "#example, print the characters in the word apple\n",
    "word = 'apple'\n",
    "for i in range(len(word)):\n",
    "    print(word[i])"
   ]
  },
  {
   "cell_type": "code",
   "execution_count": 17,
   "metadata": {},
   "outputs": [
    {
     "name": "stdout",
     "output_type": "stream",
     "text": [
      "a\n",
      "p\n",
      "p\n",
      "l\n",
      "e\n"
     ]
    }
   ],
   "source": [
    "#what is the output here? why?\n",
    "for i in word:\n",
    "    print(i)"
   ]
  },
  {
   "cell_type": "code",
   "execution_count": 18,
   "metadata": {},
   "outputs": [
    {
     "name": "stdout",
     "output_type": "stream",
     "text": [
      "12\n"
     ]
    }
   ],
   "source": [
    "#sum the numbers in a list\n",
    "s = 0\n",
    "a = [2, 3, 1, 3, 3]\n",
    "for i in a:\n",
    "    s += i # note this is equivalent to s = s + i\n",
    "\n",
    "print(s)"
   ]
  },
  {
   "cell_type": "code",
   "execution_count": 20,
   "metadata": {},
   "outputs": [
    {
     "name": "stdout",
     "output_type": "stream",
     "text": [
      "12\n"
     ]
    }
   ],
   "source": [
    "#sum the numbers in a list using index\n",
    "s = 0\n",
    "a = [2, 3, 1, 3, 3]\n",
    "for i in range(len(a)):\n",
    "    s += a[i]\n",
    "    \n",
    "print(s)"
   ]
  },
  {
   "cell_type": "code",
   "execution_count": 21,
   "metadata": {},
   "outputs": [
    {
     "name": "stdout",
     "output_type": "stream",
     "text": [
      "9\n"
     ]
    }
   ],
   "source": [
    "#sum the numbers in a list if they satisfy a condition \n",
    "s = 0\n",
    "a = [2, 3, 1, 3, 3]\n",
    "for i in a:\n",
    "    \n",
    "    if i>= 3: \n",
    "        s += i # note this is equivalent to s = s + i\n",
    "    \n",
    "print(s)"
   ]
  },
  {
   "cell_type": "code",
   "execution_count": 22,
   "metadata": {},
   "outputs": [
    {
     "name": "stdout",
     "output_type": "stream",
     "text": [
      "6\n"
     ]
    }
   ],
   "source": [
    "#sum every other number in a list using index\n",
    "s = 0\n",
    "a = [2, 3, 1, 3, 3]\n",
    "for i in range(0, len(a), 2):\n",
    "    s += a[i]\n",
    "    \n",
    "print(s)"
   ]
  },
  {
   "cell_type": "code",
   "execution_count": 27,
   "metadata": {},
   "outputs": [
    {
     "name": "stdout",
     "output_type": "stream",
     "text": [
      "6\n"
     ]
    }
   ],
   "source": [
    "s = 0\n",
    "a = [2, 3, 1, 3, 3]\n",
    "for i in range(0, len(a)):\n",
    "    if i%2==0:\n",
    "        s += a[i]\n",
    "\n",
    "    \n",
    "print(s)"
   ]
  },
  {
   "cell_type": "code",
   "execution_count": null,
   "metadata": {},
   "outputs": [],
   "source": [
    "s = 0\n",
    "a = [2, 3, 1, 3, 3]\n",
    "for i in a:\n",
    "    ????\n",
    "        s += a[i]\n",
    "print(s)"
   ]
  },
  {
   "cell_type": "markdown",
   "metadata": {},
   "source": [
    "Note that, we could assign two different looping variables at the same time. For example, if we have two lists with same length, and we want to loop through them, we could do it using the zip function:\n",
    "\n"
   ]
  },
  {
   "cell_type": "code",
   "execution_count": 28,
   "metadata": {},
   "outputs": [
    {
     "name": "stdout",
     "output_type": "stream",
     "text": [
      "One 1\n",
      "Two 2\n",
      "Three 3\n"
     ]
    }
   ],
   "source": [
    "a = [\"One\", \"Two\", \"Three\"]\n",
    "b = [1, 2, 3]\n",
    "\n",
    "for i, j in zip(a, b):\n",
    "    print(i, j)"
   ]
  },
  {
   "cell_type": "code",
   "execution_count": 29,
   "metadata": {},
   "outputs": [
    {
     "name": "stdout",
     "output_type": "stream",
     "text": [
      "One 1\n",
      "Two 2\n",
      "Three 3\n"
     ]
    }
   ],
   "source": [
    "for n in range(len(a)):\n",
    "    print(a[n],b[n])"
   ]
  },
  {
   "cell_type": "code",
   "execution_count": 30,
   "metadata": {},
   "outputs": [
    {
     "name": "stdout",
     "output_type": "stream",
     "text": [
      "One 1\n",
      "Two 2\n"
     ]
    }
   ],
   "source": [
    "#if the lists have different lenghts ??\n",
    "a = [\"One\", \"Two\", \"Three\"]\n",
    "b = [1, 2]\n",
    "\n",
    "for i, j in zip(a, b):\n",
    "    print(i, j)"
   ]
  },
  {
   "cell_type": "code",
   "execution_count": 31,
   "metadata": {},
   "outputs": [
    {
     "name": "stdout",
     "output_type": "stream",
     "text": [
      "One 1\n",
      "Two 2\n"
     ]
    },
    {
     "ename": "IndexError",
     "evalue": "list index out of range",
     "output_type": "error",
     "traceback": [
      "\u001b[0;31m---------------------------------------------------------------------------\u001b[0m",
      "\u001b[0;31mIndexError\u001b[0m                                Traceback (most recent call last)",
      "\u001b[0;32m<ipython-input-31-b62a4ac28767>\u001b[0m in \u001b[0;36m<module>\u001b[0;34m\u001b[0m\n\u001b[1;32m      1\u001b[0m \u001b[0;32mfor\u001b[0m \u001b[0mn\u001b[0m \u001b[0;32min\u001b[0m \u001b[0mrange\u001b[0m\u001b[0;34m(\u001b[0m\u001b[0mlen\u001b[0m\u001b[0;34m(\u001b[0m\u001b[0ma\u001b[0m\u001b[0;34m)\u001b[0m\u001b[0;34m)\u001b[0m\u001b[0;34m:\u001b[0m\u001b[0;34m\u001b[0m\u001b[0;34m\u001b[0m\u001b[0m\n\u001b[0;32m----> 2\u001b[0;31m     \u001b[0mprint\u001b[0m\u001b[0;34m(\u001b[0m\u001b[0ma\u001b[0m\u001b[0;34m[\u001b[0m\u001b[0mn\u001b[0m\u001b[0;34m]\u001b[0m\u001b[0;34m,\u001b[0m\u001b[0mb\u001b[0m\u001b[0;34m[\u001b[0m\u001b[0mn\u001b[0m\u001b[0;34m]\u001b[0m\u001b[0;34m)\u001b[0m\u001b[0;34m\u001b[0m\u001b[0;34m\u001b[0m\u001b[0m\n\u001b[0m",
      "\u001b[0;31mIndexError\u001b[0m: list index out of range"
     ]
    }
   ],
   "source": [
    "for n in range(len(a)):\n",
    "    print(a[n],b[n])"
   ]
  },
  {
   "cell_type": "markdown",
   "metadata": {},
   "source": [
    "Python allows you to iterate over the keys of a dictionary "
   ]
  },
  {
   "cell_type": "code",
   "execution_count": 32,
   "metadata": {},
   "outputs": [
    {
     "name": "stdout",
     "output_type": "stream",
     "text": [
      "One 1\n",
      "Two 2\n",
      "Three 3\n"
     ]
    }
   ],
   "source": [
    "dict_a = {\"One\":1, \"Two\":2, \"Three\":3}\n",
    "\n",
    "for key in dict_a.keys():\n",
    "    print(key, dict_a[key])"
   ]
  },
  {
   "cell_type": "code",
   "execution_count": 33,
   "metadata": {},
   "outputs": [
    {
     "name": "stdout",
     "output_type": "stream",
     "text": [
      "One 1\n",
      "Two 2\n",
      "Three 3\n"
     ]
    }
   ],
   "source": [
    "for key, value in dict_a.items():\n",
    "    print(key, value)"
   ]
  },
  {
   "cell_type": "code",
   "execution_count": 35,
   "metadata": {},
   "outputs": [
    {
     "data": {
      "text/plain": [
       "True"
      ]
     },
     "execution_count": 35,
     "metadata": {},
     "output_type": "execute_result"
    }
   ],
   "source": [
    "a='4'\n",
    "a.isdigit()"
   ]
  },
  {
   "cell_type": "code",
   "execution_count": 43,
   "metadata": {},
   "outputs": [],
   "source": [
    "def my_function(input_string = 'hi'):\n",
    "    isanumber = False\n",
    "    \n",
    "    assert type(input_string)==str, 'input must be a string'\n",
    "    \n",
    "    for i in input_string:\n",
    "        if i.isdigit():\n",
    "            isanumber = True\n",
    "            \n",
    "    return isanumber"
   ]
  },
  {
   "cell_type": "code",
   "execution_count": 46,
   "metadata": {},
   "outputs": [
    {
     "data": {
      "text/plain": [
       "True"
      ]
     },
     "execution_count": 46,
     "metadata": {},
     "output_type": "execute_result"
    }
   ],
   "source": [
    "my_function('ee2')"
   ]
  },
  {
   "cell_type": "code",
   "execution_count": 53,
   "metadata": {},
   "outputs": [],
   "source": [
    "def my_function(input_string = 'hi'):\n",
    "    \n",
    "    sumofnumbers = 0\n",
    "    \n",
    "    assert type(input_string)==str, 'input must be a string'\n",
    "    \n",
    "    for i in input_string:\n",
    "        if i.isdigit():\n",
    "            sumofnumbers = sumofnumbers + int(i)\n",
    "            \n",
    "    return sumofnumbers"
   ]
  },
  {
   "cell_type": "code",
   "execution_count": 54,
   "metadata": {},
   "outputs": [
    {
     "ename": "TypeError",
     "evalue": "unsupported operand type(s) for +: 'int' and 'str'",
     "output_type": "error",
     "traceback": [
      "\u001b[0;31m---------------------------------------------------------------------------\u001b[0m",
      "\u001b[0;31mTypeError\u001b[0m                                 Traceback (most recent call last)",
      "\u001b[0;32m<ipython-input-54-ba6041afeb3c>\u001b[0m in \u001b[0;36m<module>\u001b[0;34m\u001b[0m\n\u001b[0;32m----> 1\u001b[0;31m \u001b[0mmy_function\u001b[0m\u001b[0;34m(\u001b[0m\u001b[0;34m'e2e2'\u001b[0m\u001b[0;34m)\u001b[0m\u001b[0;34m\u001b[0m\u001b[0;34m\u001b[0m\u001b[0m\n\u001b[0m",
      "\u001b[0;32m<ipython-input-53-e65f0e5a3ad0>\u001b[0m in \u001b[0;36mmy_function\u001b[0;34m(input_string)\u001b[0m\n\u001b[1;32m      7\u001b[0m     \u001b[0;32mfor\u001b[0m \u001b[0mi\u001b[0m \u001b[0;32min\u001b[0m \u001b[0minput_string\u001b[0m\u001b[0;34m:\u001b[0m\u001b[0;34m\u001b[0m\u001b[0;34m\u001b[0m\u001b[0m\n\u001b[1;32m      8\u001b[0m         \u001b[0;32mif\u001b[0m \u001b[0mi\u001b[0m\u001b[0;34m.\u001b[0m\u001b[0misdigit\u001b[0m\u001b[0;34m(\u001b[0m\u001b[0;34m)\u001b[0m\u001b[0;34m:\u001b[0m\u001b[0;34m\u001b[0m\u001b[0;34m\u001b[0m\u001b[0m\n\u001b[0;32m----> 9\u001b[0;31m             \u001b[0msumofnumbers\u001b[0m \u001b[0;34m=\u001b[0m \u001b[0msumofnumbers\u001b[0m \u001b[0;34m+\u001b[0m \u001b[0mi\u001b[0m\u001b[0;34m\u001b[0m\u001b[0;34m\u001b[0m\u001b[0m\n\u001b[0m\u001b[1;32m     10\u001b[0m \u001b[0;34m\u001b[0m\u001b[0m\n\u001b[1;32m     11\u001b[0m     \u001b[0;32mreturn\u001b[0m \u001b[0msumofnumbers\u001b[0m\u001b[0;34m\u001b[0m\u001b[0;34m\u001b[0m\u001b[0m\n",
      "\u001b[0;31mTypeError\u001b[0m: unsupported operand type(s) for +: 'int' and 'str'"
     ]
    }
   ],
   "source": [
    "my_function('e2e2')"
   ]
  },
  {
   "cell_type": "code",
   "execution_count": 55,
   "metadata": {},
   "outputs": [],
   "source": [
    "def my_function(input_string = 'hi'):\n",
    "    \n",
    "    sumofstrings = ''\n",
    "    \n",
    "    assert type(input_string)==str, 'input must be a string'\n",
    "    \n",
    "    for i in input_string:\n",
    "        if not i.isdigit():\n",
    "            sumofstrings = sumofstrings+i\n",
    "            \n",
    "    return sumofstrings"
   ]
  },
  {
   "cell_type": "code",
   "execution_count": 56,
   "metadata": {},
   "outputs": [
    {
     "data": {
      "text/plain": [
       "'ee'"
      ]
     },
     "execution_count": 56,
     "metadata": {},
     "output_type": "execute_result"
    }
   ],
   "source": [
    "my_function('e2e2')"
   ]
  },
  {
   "cell_type": "markdown",
   "metadata": {},
   "source": [
    "### Mini Challenge 1 \n",
    "\n",
    "Write a function that takes a string and validates if at least one of the characters is a number. You can use the  ```.isdigit()``` method of the string to check if the character is a digit.\n",
    "\n",
    "Example: \n",
    "```python\n",
    "my_function('1hola2') -> True \n",
    "```\n",
    "\n",
    "### Mini Challenge 2\n",
    "\n",
    "Write a function that takes a string and returns the sum of all numbers in the string. You can use the ```.isdigit()``` method of the string to check if the character is a digit.\n",
    "\n",
    "Example: \n",
    "```python\n",
    "my_function('1hola2') -> 3\n",
    "```\n",
    "\n",
    "### Mini Challenge 3\n",
    "\n",
    "Write a function that takes a string and removes the numbers from the string. You can use the ```.isdigit()``` method of the string to check if the character is a digit.\n",
    "\n",
    "\n",
    "Example: \n",
    "```python\n",
    "my_function('1hola2') -> 'hola'\n",
    "```"
   ]
  },
  {
   "cell_type": "markdown",
   "metadata": {},
   "source": [
    "## Handling Loops \n",
    "\n",
    "There are two important keyword to manipulate loops \n",
    "\n",
    "```python\n",
    "break \n",
    "```\n",
    "\n",
    "```break``` will exit the for-loop.\n",
    "\n",
    "```python\n",
    "continue\n",
    "```\n",
    "\n",
    "```continue``` will skip one iteration "
   ]
  },
  {
   "cell_type": "code",
   "execution_count": 60,
   "metadata": {},
   "outputs": [
    {
     "name": "stdout",
     "output_type": "stream",
     "text": [
      "0\n",
      "1\n",
      "2\n",
      "3\n"
     ]
    }
   ],
   "source": [
    "#example of break \n",
    "for i in range(5):\n",
    "    \n",
    "    print(i)\n",
    "    \n",
    "    if i==3:\n",
    "        break"
   ]
  },
  {
   "cell_type": "code",
   "execution_count": 61,
   "metadata": {},
   "outputs": [
    {
     "name": "stdout",
     "output_type": "stream",
     "text": [
      "0\n",
      "1\n",
      "2\n"
     ]
    }
   ],
   "source": [
    "#example of break \n",
    "\n",
    "# what is going to be printed??\n",
    "for i in range(5):\n",
    "    if i==3:\n",
    "        break    \n",
    "    print(i)"
   ]
  },
  {
   "cell_type": "code",
   "execution_count": 62,
   "metadata": {},
   "outputs": [
    {
     "name": "stdout",
     "output_type": "stream",
     "text": [
      "0\n",
      "1\n",
      "2\n",
      "4\n"
     ]
    }
   ],
   "source": [
    "#example of continue\n",
    "for i in range(5):\n",
    "    \n",
    "    if i==3:\n",
    "        continue\n",
    "        \n",
    "    print(i)\n",
    "    "
   ]
  },
  {
   "cell_type": "code",
   "execution_count": 63,
   "metadata": {},
   "outputs": [
    {
     "name": "stdout",
     "output_type": "stream",
     "text": [
      "0\n",
      "1\n",
      "2\n",
      "3\n",
      "4\n"
     ]
    }
   ],
   "source": [
    "#example of continue\n",
    "\n",
    "# what is going to be printed??\n",
    "for i in range(5):\n",
    "    \n",
    "    print(i)\n",
    "    \n",
    "    if i==3:\n",
    "        continue\n",
    "        \n",
    "    "
   ]
  },
  {
   "cell_type": "markdown",
   "metadata": {},
   "source": [
    "## Nested loops \n",
    "Just like if-statements, for-loops can be nested."
   ]
  },
  {
   "cell_type": "code",
   "execution_count": null,
   "metadata": {},
   "outputs": [],
   "source": [
    "#sum the elements of a numpy array \n",
    "x = [[5, 6], [7, 8]]\n",
    "s = 0\n",
    "for i in range(2):\n",
    "    for j in range(2):\n",
    "        s += x[i][j]\n",
    "        print(s)"
   ]
  },
  {
   "cell_type": "markdown",
   "metadata": {},
   "source": [
    "# While Loops\n",
    "\n",
    "A while-loop is a set of instructions that is repeated, or iterated, as long a condition is true \n",
    "\n",
    "A while-loop is build as follows :\n",
    "```python\n",
    "\n",
    "while logical expression:\n",
    "    # Code block to be repeated until logical statement is false\n",
    "    code block\n",
    "\n",
    "```"
   ]
  },
  {
   "cell_type": "code",
   "execution_count": 66,
   "metadata": {},
   "outputs": [
    {
     "name": "stdout",
     "output_type": "stream",
     "text": [
      "10\n",
      "5.0\n",
      "2.5\n",
      "1.25\n"
     ]
    }
   ],
   "source": [
    "n = 10\n",
    "\n",
    "while n>1:\n",
    "    \n",
    "    print(n)\n",
    "    \n",
    "    n = n/2 \n"
   ]
  },
  {
   "cell_type": "markdown",
   "metadata": {},
   "source": [
    "While-loops are dangerous as it is easy to create *infinite loops*. "
   ]
  },
  {
   "cell_type": "code",
   "execution_count": null,
   "metadata": {},
   "outputs": [],
   "source": [
    "n = 0\n",
    "while n > -1:\n",
    "    n += 1"
   ]
  },
  {
   "cell_type": "markdown",
   "metadata": {},
   "source": [
    "This iteration will never end, the only way to stop the iteration is to Stop, Restart or Shutdown the kernel. \n",
    "```\n",
    "Note that by Stopping, Restarting, or Shutting down your kernel, you will loss all the information (variables) stored in the kernel. \n",
    "```"
   ]
  },
  {
   "cell_type": "markdown",
   "metadata": {},
   "source": [
    "# List and dictionary comprehension*\n",
    "\n",
    "\n",
    "In Python, comprehensions are an important and popular to create lists or dictionaries. Comprehensions allow sequences to be created from other sequence with very compact syntax.\n",
    "\n",
    "*This is a somewhat advanced topic, I'm showing this to you so that you are aware that it exists \n"
   ]
  },
  {
   "cell_type": "code",
   "execution_count": 12,
   "metadata": {},
   "outputs": [
    {
     "name": "stdout",
     "output_type": "stream",
     "text": [
      "[0, 1, 4, 9, 16]\n"
     ]
    }
   ],
   "source": [
    "#Example, create a list by squaring the numbers from 0 to 4\n",
    "\n",
    "y = []\n",
    "for i in range(5):\n",
    "    y.append(i**2)\n",
    "print(y)\n"
   ]
  },
  {
   "cell_type": "code",
   "execution_count": 13,
   "metadata": {},
   "outputs": [
    {
     "name": "stdout",
     "output_type": "stream",
     "text": [
      "[0, 1, 4, 9, 16]\n"
     ]
    }
   ],
   "source": [
    "#the same result can be achieve using a compact syntax \n",
    "\n",
    "y = [i**2 for i in range(5)]\n",
    "\n",
    "print(y)"
   ]
  },
  {
   "cell_type": "code",
   "execution_count": 14,
   "metadata": {},
   "outputs": [
    {
     "name": "stdout",
     "output_type": "stream",
     "text": [
      "[1, 1, 1, 2, 1, 3, 1, 4]\n"
     ]
    }
   ],
   "source": [
    "y = []\n",
    "for i in range(1,5):\n",
    "    for j in range(2):\n",
    "        y.append(i**j)\n",
    "print(y)"
   ]
  },
  {
   "cell_type": "code",
   "execution_count": 15,
   "metadata": {},
   "outputs": [
    {
     "name": "stdout",
     "output_type": "stream",
     "text": [
      "[1, 1, 1, 2, 1, 3, 1, 4]\n"
     ]
    }
   ],
   "source": [
    "y = [i**j for i in range(1,5) for j in range(2)]\n",
    "print(y)"
   ]
  },
  {
   "cell_type": "markdown",
   "metadata": {},
   "source": [
    "Similarly, we can do dictionary comprehension"
   ]
  },
  {
   "cell_type": "code",
   "execution_count": 16,
   "metadata": {},
   "outputs": [
    {
     "name": "stdout",
     "output_type": "stream",
     "text": [
      "{'a': 1, 'b': 8, 'c': 27}\n"
     ]
    }
   ],
   "source": [
    "#create a new dictionary by finding the cube of all elements in the dictionary x\n",
    "x = {'a': 1, 'b': 2, 'c': 3}\n",
    "\n",
    "y = {key:v**3 for (key, v) in x.items()}\n",
    "print(y)"
   ]
  },
  {
   "cell_type": "markdown",
   "metadata": {},
   "source": [
    "## Exercises "
   ]
  },
  {
   "cell_type": "markdown",
   "metadata": {},
   "source": [
    "Exercise 1. Print the numbers from 1 to 10 using a while loop"
   ]
  },
  {
   "cell_type": "markdown",
   "metadata": {},
   "source": [
    "Exercise 2. Print the following pattern using a loop \n",
    "\n",
    "```\n",
    "1 \n",
    "1 2 \n",
    "1 2 3 \n",
    "1 2 3 4 \n",
    "1 2 3 4 5\n",
    "```"
   ]
  },
  {
   "cell_type": "markdown",
   "metadata": {},
   "source": [
    "Exercise 4: Print the following pattern\n",
    "```\n",
    "5 4 3 2 1 \n",
    "4 3 2 1 \n",
    "3 2 1 \n",
    "2 1 \n",
    "1\n",
    "```"
   ]
  },
  {
   "cell_type": "markdown",
   "metadata": {},
   "source": [
    "Exercise 5: Calculate the sum of all numbers from 1 to a given number"
   ]
  },
  {
   "cell_type": "code",
   "execution_count": 4,
   "metadata": {},
   "outputs": [],
   "source": [
    "#Example, check if a number is a prime number\n",
    "def check_prime(number):\n",
    "    for i in range(2,number//2):\n",
    "        if number%i == 0:\n",
    "            return False\n",
    "    \n",
    "    return True"
   ]
  },
  {
   "cell_type": "code",
   "execution_count": 5,
   "metadata": {},
   "outputs": [
    {
     "data": {
      "text/plain": [
       "True"
      ]
     },
     "execution_count": 5,
     "metadata": {},
     "output_type": "execute_result"
    }
   ],
   "source": [
    "check_prime(31)"
   ]
  },
  {
   "cell_type": "markdown",
   "metadata": {},
   "source": [
    "Exercise 6: Write a program to display all prime numbers within a range\n",
    "    \n",
    "Note: A prime number is only divisible by itself and 1"
   ]
  },
  {
   "cell_type": "markdown",
   "metadata": {},
   "source": [
    "Example: \n",
    "### range\n",
    "```\n",
    "start = 25\n",
    "end = 50\n",
    "```\n",
    "\n",
    "### output\n",
    "```\n",
    "Prime numbers between 25 and 50 are:\n",
    "29\n",
    "31\n",
    "37\n",
    "41\n",
    "43\n",
    "47\n",
    "```"
   ]
  },
  {
   "cell_type": "markdown",
   "metadata": {},
   "source": [
    "Exercise 7: Find the factorial of a given number\n",
    "    \n",
    "Note: The factorial means to multiply all integers numbers from the chosen number down to 1."
   ]
  },
  {
   "cell_type": "markdown",
   "metadata": {},
   "source": [
    "Exercise 8: Reverse a given integer number\n",
    "    \n",
    "Example:\n",
    "#### Input\n",
    "12345\n",
    "\n",
    "#### Output\n",
    "54321"
   ]
  },
  {
   "cell_type": "markdown",
   "metadata": {},
   "source": [
    "Exercise 9: Print the following pattern\n",
    "```\n",
    "* \n",
    "* * \n",
    "* * * \n",
    "* * * * \n",
    "* * * * * \n",
    "* * * * \n",
    "* * * \n",
    "* * \n",
    "*\n",
    "```"
   ]
  },
  {
   "cell_type": "code",
   "execution_count": 6,
   "metadata": {},
   "outputs": [
    {
     "name": "stdout",
     "output_type": "stream",
     "text": [
      " 1\n",
      " 1 2\n",
      " 1 2 3\n",
      " 1 2 3 4\n",
      " 1 2 3 4 5\n",
      " 5 4 3 2 1\n",
      " 4 3 2 1\n",
      " 3 2 1\n",
      " 2 1\n",
      " 1\n"
     ]
    }
   ],
   "source": [
    "def myPrint(toPrint):\n",
    "    '''\n",
    "    Function that prints a list as strings\n",
    "    '''\n",
    "    myVar = ''\n",
    "    for i in toPrint:\n",
    "        myVar = myVar+' '+str(i)\n",
    "                                 \n",
    "    print(myVar)\n",
    "\n",
    "\n",
    "myVar = []\n",
    "for i in range(1,11):\n",
    "    if (i<6):\n",
    "        myVar.append(i)\n",
    "    elif(i==6):\n",
    "        myVar.reverse()\n",
    "    else:\n",
    "        myVar.pop(0)\n",
    "    myPrint(myVar) #use to print a list as strings\n"
   ]
  },
  {
   "cell_type": "code",
   "execution_count": 10,
   "metadata": {},
   "outputs": [],
   "source": [
    "def reverseFunction(number):\n",
    "    \n",
    "    print(int(str(number)[::-1]))"
   ]
  },
  {
   "cell_type": "code",
   "execution_count": 11,
   "metadata": {},
   "outputs": [
    {
     "name": "stdout",
     "output_type": "stream",
     "text": [
      "764421\n"
     ]
    }
   ],
   "source": [
    "reverseFunction(124467)"
   ]
  },
  {
   "cell_type": "code",
   "execution_count": null,
   "metadata": {},
   "outputs": [],
   "source": []
  }
 ],
 "metadata": {
  "kernelspec": {
   "display_name": "Python 3",
   "language": "python",
   "name": "python3"
  },
  "language_info": {
   "codemirror_mode": {
    "name": "ipython",
    "version": 3
   },
   "file_extension": ".py",
   "mimetype": "text/x-python",
   "name": "python",
   "nbconvert_exporter": "python",
   "pygments_lexer": "ipython3",
   "version": "3.8.3"
  }
 },
 "nbformat": 4,
 "nbformat_minor": 5
}
