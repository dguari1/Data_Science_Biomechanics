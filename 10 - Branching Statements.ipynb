{
 "cells": [
  {
   "cell_type": "markdown",
   "metadata": {},
   "source": [
    "## Branching statements \n",
    "\n",
    "A branching statements execute a block of code only if certain conditions are meet. The conditions are expressed as logical expresions \n",
    "\n",
    "```python \n",
    "\n",
    "if logical_statement:\n",
    "    \n",
    "    code to execute\n",
    "```\n",
    "\n",
    "The word ```if``` is a keyword. If the logical statement is ```True```, then the code block will be execute. In contrast, if the logical statement is ```False```, then the code block won't be executed "
   ]
  },
  {
   "cell_type": "code",
   "execution_count": 4,
   "metadata": {},
   "outputs": [],
   "source": [
    "a = 1.0000000000000\n",
    "\n",
    "if a > 1:\n",
    "    print(f'{a} is larger than 1')\n",
    "    b = a+1\n",
    "    print(b)"
   ]
  },
  {
   "cell_type": "markdown",
   "metadata": {},
   "source": [
    "You can combine multiple logical statements statements using the keywords ```and``` and ```or```"
   ]
  },
  {
   "cell_type": "code",
   "execution_count": 9,
   "metadata": {},
   "outputs": [
    {
     "name": "stdout",
     "output_type": "stream",
     "text": [
      "2.5 is larger than 1 and smaller than 3\n"
     ]
    }
   ],
   "source": [
    "a = 2.5\n",
    "\n",
    "if (a>1) and (a<3):\n",
    "    print(f'{a} is larger than 1 and smaller than 3')"
   ]
  },
  {
   "cell_type": "code",
   "execution_count": 11,
   "metadata": {},
   "outputs": [],
   "source": [
    "a = 3.5\n",
    "\n",
    "if (a>4) or (a<3):\n",
    "    print(f'{a} is larger than 1 or smaller than 3')"
   ]
  },
  {
   "cell_type": "markdown",
   "metadata": {},
   "source": [
    "Often you want to execute a code block if a logical statement is ```True``` and another if it is ```False```. This can be achieved using the if-else statements \n",
    "\n",
    "```python \n",
    "\n",
    "if logical_statement:  \n",
    "    code to execute\n",
    "else:\n",
    "    other code to execute\n",
    "```"
   ]
  },
  {
   "cell_type": "code",
   "execution_count": 13,
   "metadata": {},
   "outputs": [
    {
     "name": "stdout",
     "output_type": "stream",
     "text": [
      "0 is not larger or equal than 1\n"
     ]
    }
   ],
   "source": [
    "a = 0\n",
    "\n",
    "if a >= 1:\n",
    "    print(f'{a} is larger or equal than 1')\n",
    "else:\n",
    "    print(f'{a} is not larger or equal than 1')"
   ]
  },
  {
   "cell_type": "markdown",
   "metadata": {},
   "source": [
    "You can exted the if-else statements to evaluate multiple logical statements using the keyword ```elif```\n",
    "\n",
    "```python\n",
    "if logical expression P:\n",
    "    code block 1\n",
    "elif logical expression Q:\n",
    "    code block 2\n",
    "elif logical expression R:\n",
    "    code block 3\n",
    "else:\n",
    "    code block 4\n",
    "```\n",
    "\n",
    "It is important to note that Python will execute only **one** code block even if multiple logical expressions are true "
   ]
  },
  {
   "cell_type": "code",
   "execution_count": 15,
   "metadata": {},
   "outputs": [
    {
     "name": "stdout",
     "output_type": "stream",
     "text": [
      "Code Block 2\n"
     ]
    }
   ],
   "source": [
    "a=3\n",
    "\n",
    "if a > 5:\n",
    "    print('Code Block 5')\n",
    "elif a > 4:\n",
    "    print('Code Block 4')\n",
    "elif a > 3:\n",
    "    print('Code Block 3')\n",
    "elif a > 2:\n",
    "    print('Code Block 2')\n",
    "elif a > 1:\n",
    "    print('Code Block 1')\n",
    "else:\n",
    "    print('Code Block 0')"
   ]
  },
  {
   "cell_type": "code",
   "execution_count": 16,
   "metadata": {},
   "outputs": [
    {
     "name": "stdout",
     "output_type": "stream",
     "text": [
      "The value of y is 4\n"
     ]
    }
   ],
   "source": [
    "# What is the value of y?\n",
    "#del y \n",
    "y = 0\n",
    "x = 0\n",
    "if (x > 1) and (x<=2):\n",
    "    y = 2\n",
    "elif x > 2:\n",
    "    y = 4\n",
    "else:\n",
    "    pass\n",
    "\n",
    "\n",
    "print(f'The value of y is {y}')\n"
   ]
  },
  {
   "cell_type": "code",
   "execution_count": 17,
   "metadata": {},
   "outputs": [],
   "source": [
    "del x, y"
   ]
  },
  {
   "cell_type": "code",
   "execution_count": 20,
   "metadata": {},
   "outputs": [
    {
     "name": "stdout",
     "output_type": "stream",
     "text": [
      "4\n"
     ]
    }
   ],
   "source": [
    "# What is the value of y?\n",
    "x = 2.5\n",
    "if (x > 1) and (x < 2):\n",
    "    y = 2\n",
    "elif (x > 2) and (x < 4):\n",
    "    y = 4\n",
    "else:\n",
    "    y = 0\n",
    "print(y)"
   ]
  },
  {
   "cell_type": "code",
   "execution_count": 22,
   "metadata": {},
   "outputs": [],
   "source": [
    "del x,y"
   ]
  },
  {
   "cell_type": "code",
   "execution_count": 24,
   "metadata": {},
   "outputs": [
    {
     "name": "stdout",
     "output_type": "stream",
     "text": [
      "0\n"
     ]
    }
   ],
   "source": [
    "# What is the value of y?\n",
    "x = 6\n",
    "y = 0\n",
    "if 1 < x < 2:\n",
    "    y = 2\n",
    "elif 2 < x < 4:\n",
    "    y = 4\n",
    "else:\n",
    "    pass\n",
    "print(y)"
   ]
  },
  {
   "cell_type": "markdown",
   "metadata": {},
   "source": [
    "Python includes many default functions that help you to create branching statements. For example:\n",
    "\n",
    "- ```all()``` -> is true only if all the elements are true\n",
    "\n",
    "- ```isinstance()``` check if a variable is of certain type\n",
    "\n",
    "- ```%``` computes the module between two numbers"
   ]
  },
  {
   "cell_type": "code",
   "execution_count": 32,
   "metadata": {},
   "outputs": [
    {
     "data": {
      "text/plain": [
       "(True, False)"
      ]
     },
     "execution_count": 32,
     "metadata": {},
     "output_type": "execute_result"
    }
   ],
   "source": [
    "all([True,True,True]), all([True,False,True])"
   ]
  },
  {
   "cell_type": "code",
   "execution_count": 26,
   "metadata": {},
   "outputs": [
    {
     "data": {
      "text/plain": [
       "False"
      ]
     },
     "execution_count": 26,
     "metadata": {},
     "output_type": "execute_result"
    }
   ],
   "source": [
    "a=3.0\n",
    "all([a>1, a!=3, a<5,a+1==4.5])"
   ]
  },
  {
   "cell_type": "code",
   "execution_count": 33,
   "metadata": {},
   "outputs": [
    {
     "data": {
      "text/plain": [
       "(True, False)"
      ]
     },
     "execution_count": 33,
     "metadata": {},
     "output_type": "execute_result"
    }
   ],
   "source": [
    "all([1,1,1]), all([1,1,1,0])"
   ]
  },
  {
   "cell_type": "code",
   "execution_count": 34,
   "metadata": {},
   "outputs": [
    {
     "data": {
      "text/plain": [
       "(True, False)"
      ]
     },
     "execution_count": 34,
     "metadata": {},
     "output_type": "execute_result"
    }
   ],
   "source": [
    "all([0<1,1<2,2<3 ]), all([0>1, 1<2,2<3])"
   ]
  },
  {
   "cell_type": "code",
   "execution_count": 35,
   "metadata": {},
   "outputs": [
    {
     "name": "stdout",
     "output_type": "stream",
     "text": [
      "False\n",
      "True\n",
      "True\n",
      "True\n"
     ]
    }
   ],
   "source": [
    "print(isinstance(0, str))\n",
    "print(isinstance(0.5, float))\n",
    "print(isinstance('Hi', str))\n",
    "print(isinstance(4,int))"
   ]
  },
  {
   "cell_type": "markdown",
   "metadata": {},
   "source": [
    "Python provides a way to use one-line code to evaluate the first expression if the condition is true, otherwise it evaluates the second expression.\n",
    "\n",
    "```python \n",
    "expression_if_true if condition else expression_if_false\n",
    "```"
   ]
  },
  {
   "cell_type": "code",
   "execution_count": 33,
   "metadata": {},
   "outputs": [
    {
     "name": "stdout",
     "output_type": "stream",
     "text": [
      "larger than 0\n"
     ]
    }
   ],
   "source": [
    "a = 1\n",
    "count = 'larger than 0' if a>0 else 'smaller or equal to zero'\n",
    "print(count)"
   ]
  },
  {
   "cell_type": "code",
   "execution_count": 34,
   "metadata": {},
   "outputs": [
    {
     "data": {
      "text/plain": [
       "'larger than 0'"
      ]
     },
     "execution_count": 34,
     "metadata": {},
     "output_type": "execute_result"
    }
   ],
   "source": [
    "#this expression is equivalent to \n",
    "a = 1\n",
    "if a>0:\n",
    "    count = 'larger than 0'\n",
    "else:\n",
    "    count = 'smaller or equal to zero'\n",
    "    \n",
    "count"
   ]
  },
  {
   "cell_type": "markdown",
   "metadata": {},
   "source": [
    "Another important statement in python that can help to guide code flow is the ```try``` statement:\n",
    "\n",
    "```python\n",
    "try:\n",
    "    Code block 1\n",
    "except:\n",
    "    Code block 2\n",
    "````\n",
    "\n",
    "In this case, ```python``` will try to execute the frist code block, if that fails, then it will execute the second code block\n"
   ]
  },
  {
   "cell_type": "code",
   "execution_count": 40,
   "metadata": {},
   "outputs": [
    {
     "name": "stdin",
     "output_type": "stream",
     "text": [
      " hola\n"
     ]
    },
    {
     "name": "stdout",
     "output_type": "stream",
     "text": [
      "hola is not a number\n",
      "I did it!\n"
     ]
    }
   ],
   "source": [
    "m = input()\n",
    "try:\n",
    "    n = int(m)\n",
    "    print(n+10)\n",
    "except:\n",
    "    print(f'{m} is not a number')\n",
    "    \n",
    "print('I did it!')"
   ]
  },
  {
   "cell_type": "code",
   "execution_count": 42,
   "metadata": {},
   "outputs": [
    {
     "name": "stdout",
     "output_type": "stream",
     "text": [
      "hola is not a number\n"
     ]
    }
   ],
   "source": [
    "m = 'hola'\n",
    "try:\n",
    "    n = int(m)\n",
    "    print(n+10)\n",
    "except:\n",
    "    print(f'{m} is not a number')"
   ]
  },
  {
   "cell_type": "code",
   "execution_count": 47,
   "metadata": {},
   "outputs": [
    {
     "name": "stdout",
     "output_type": "stream",
     "text": [
      "m is zero\n",
      "I did it!\n"
     ]
    }
   ],
   "source": [
    "#you can also specify what errors should be considered \n",
    "#you can also specify what errors should be considered \n",
    "m = '0'\n",
    "try:\n",
    "    n = int(m)\n",
    "    print(40/n)\n",
    "except ValueError:\n",
    "    print('m is not a number')\n",
    "except ZeroDivisionError:\n",
    "    print('m is zero')\n",
    "    \n",
    "    \n",
    "\n",
    "print('I did it!')    "
   ]
  },
  {
   "cell_type": "code",
   "execution_count": 56,
   "metadata": {},
   "outputs": [
    {
     "name": "stdout",
     "output_type": "stream",
     "text": [
      "4.0\n",
      "I did it!\n"
     ]
    }
   ],
   "source": [
    "m = '10'\n",
    "try:\n",
    "    n = int(m)\n",
    "    print(40/n)\n",
    "except ZeroDivisionError:\n",
    "    print('m is zero')\n",
    "except ValueError:\n",
    "    print(f'm is not a number')\n",
    "    \n",
    "print('I did it!')  "
   ]
  },
  {
   "cell_type": "code",
   "execution_count": null,
   "metadata": {},
   "outputs": [],
   "source": []
  }
 ],
 "metadata": {
  "kernelspec": {
   "display_name": "Python 3",
   "language": "python",
   "name": "python3"
  },
  "language_info": {
   "codemirror_mode": {
    "name": "ipython",
    "version": 3
   },
   "file_extension": ".py",
   "mimetype": "text/x-python",
   "name": "python",
   "nbconvert_exporter": "python",
   "pygments_lexer": "ipython3",
   "version": "3.8.3"
  }
 },
 "nbformat": 4,
 "nbformat_minor": 4
}
