{
 "cells": [
  {
   "cell_type": "code",
   "execution_count": 3,
   "metadata": {},
   "outputs": [],
   "source": [
    "Students = {\n",
    "    \n",
    "    'lloyd' : {\n",
    "              \"name\": \"Lloyd\",\n",
    "              \"homework\": [90.0,97.0,75.0,92.0],\n",
    "              \"quizzes\": [88.0,40.0,94.0],\n",
    "              \"tests\": [75.0,90.0]\n",
    "                },\n",
    "    'alice' : {\n",
    "              \"name\": \"Alice\",\n",
    "              \"homework\": [100.0, 92.0, 98.0, 100.0],\n",
    "              \"quizzes\": [82.0, 83.0, 91.0],\n",
    "              \"tests\": [89.0, 97.0]\n",
    "                },\n",
    "    'tyler' : {\n",
    "              \"name\": \"Tyler\",\n",
    "              \"homework\": [0.0, 87.0, 75.0, 22.0],\n",
    "              \"quizzes\": [0.0, 75.0, 78.0],\n",
    "              \"tests\": [100.0, 100.0]\n",
    "            },\n",
    "    'mike' : {\n",
    "          \"name\": \"Mike\",\n",
    "          \"homework\": [30.0, 22.0, 45.0],\n",
    "          \"quizzes\": [0.0, 85.0, 100.0],\n",
    "          \"tests\": [25.0, 30.0]\n",
    "        },\n",
    "    'james' : {\n",
    "          \"name\": \"James\",\n",
    "          \"homework\": [96.0, 98.0, 95.0, 100],\n",
    "          \"quizzes\": [95.0, 85.0, 100.0],\n",
    "          \"tests\": [100.0, 90.0]\n",
    "        },\n",
    "    \n",
    "    'ali' : {\n",
    "          \"name\": \"Ali\",\n",
    "          \"homework\": [96.0, 95.0, 99.0],\n",
    "          \"quizzes\": [95.0, 0],\n",
    "          \"tests\": [99.0, 80.0]\n",
    "        },\n",
    "    'daniel' : {\n",
    "          \"name\": \"Daniel\",\n",
    "          \"homework\": [96.0, 95.0, 95.0, 99.0],\n",
    "          \"quizzes\": [95.0, 85.0, 0],\n",
    "          \"tests\": [99.0, 80.0]\n",
    "        },\n",
    "    'juan' : {\n",
    "          \"name\": \"Juan\",\n",
    "          \"homework\": [96.0, 95.0, 95.0, 99.0],\n",
    "          \"quizzes\": [100.0, 100.0, 100.0],\n",
    "          \"tests\": [100.0, 100.0,100.0]\n",
    "        },\n",
    "}"
   ]
  },
  {
   "cell_type": "markdown",
   "metadata": {},
   "source": [
    "Practice the use of Python ```list``` and ```dict``` and answer the following questions: \n",
    "\n",
    "    1) How many students are in the class?\n",
    "    2) How many students obtained at least one 100 in their homework?\n",
    "    3) How many students have less than 3 quizzes? What are their names? \n",
    "    4) What student has a grade of 40 in their quizzes?\n",
    "    5) How many students have less than 4 homeworks? What are their names?\n",
    "    6) One students has more than 2 tests. Identify the student and fix the error.\n",
    "    7) You can compute the average of a list of number using the following expression:\n",
    "    \n",
    "```python\n",
    "\n",
    "List = [1,2,3,4,5,6,7]\n",
    "average = sum(List)/len(List)\n",
    "```\n",
    "    \n",
    "    Using this expression, identify the students with the lowest and highets homework average \n",
    "    \n",
    "     \n",
    "    "
   ]
  },
  {
   "cell_type": "code",
   "execution_count": null,
   "metadata": {},
   "outputs": [],
   "source": []
  }
 ],
 "metadata": {
  "kernelspec": {
   "display_name": "Python 3",
   "language": "python",
   "name": "python3"
  },
  "language_info": {
   "codemirror_mode": {
    "name": "ipython",
    "version": 3
   },
   "file_extension": ".py",
   "mimetype": "text/x-python",
   "name": "python",
   "nbconvert_exporter": "python",
   "pygments_lexer": "ipython3",
   "version": "3.8.3"
  }
 },
 "nbformat": 4,
 "nbformat_minor": 5
}
