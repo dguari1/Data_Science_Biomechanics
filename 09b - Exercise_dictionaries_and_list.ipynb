{
 "cells": [
  {
   "cell_type": "code",
   "execution_count": 1,
   "metadata": {},
   "outputs": [],
   "source": [
    "Students = {\n",
    "    \n",
    "    'lloyd' : {\n",
    "              \"name\": \"Lloyd\",\n",
    "              \"homework\": [90.0,97.0,75.0,92.0],\n",
    "              \"quizzes\": [88.0,40.0,94.0],\n",
    "              \"tests\": [75.0,90.0]\n",
    "                },\n",
    "    'alice' : {\n",
    "              \"name\": \"Alice\",\n",
    "              \"homework\": [100.0, 92.0, 98.0, 100.0],\n",
    "              \"quizzes\": [82.0, 83.0, 91.0],\n",
    "              \"tests\": [89.0, 97.0]\n",
    "                },\n",
    "    'tyler' : {\n",
    "              \"name\": \"Tyler\",\n",
    "              \"homework\": [0.0, 87.0, 75.0, 22.0],\n",
    "              \"quizzes\": [0.0, 75.0, 78.0],\n",
    "              \"tests\": [100.0, 100.0]\n",
    "            },\n",
    "    'mike' : {\n",
    "          \"name\": \"Mike\",\n",
    "          \"homework\": [30.0, 22.0, 45.0],\n",
    "          \"quizzes\": [0.0, 85.0, 100.0],\n",
    "          \"tests\": [25.0, 30.0]\n",
    "        },\n",
    "    'james' : {\n",
    "          \"name\": \"James\",\n",
    "          \"homework\": [96.0, 98.0, 95.0, 100],\n",
    "          \"quizzes\": [95.0, 85.0, 100.0],\n",
    "          \"tests\": [100.0, 90.0]\n",
    "        },\n",
    "    \n",
    "    'ali' : {\n",
    "          \"name\": \"Ali\",\n",
    "          \"homework\": [96.0, 95.0, 99.0],\n",
    "          \"quizzes\": [95.0, 0],\n",
    "          \"tests\": [99.0, 80.0]\n",
    "        },\n",
    "    'daniel' : {\n",
    "          \"name\": \"Daniel\",\n",
    "          \"homework\": [96.0, 95.0, 95.0, 99.0],\n",
    "          \"quizzes\": [95.0, 85.0, 0],\n",
    "          \"tests\": [99.0, 80.0]\n",
    "        },\n",
    "    'juan' : {\n",
    "          \"name\": \"Juan\",\n",
    "          \"homework\": [96.0, 95.0, 95.0, 99.0],\n",
    "          \"quizzes\": [100.0, 100.0, 100.0],\n",
    "          \"tests\": [100.0, 100.0,100.0]\n",
    "        },\n",
    "}"
   ]
  },
  {
   "cell_type": "markdown",
   "metadata": {},
   "source": [
    "Practice the use of Python ```list``` and ```dict``` and answer the following questions: \n",
    "\n",
    "    1) How many students are in the class?\n",
    "    2) How many students obtained at least one 100 in their homework?\n",
    "    3) How many students have less than 3 quizzes? What are their names? \n",
    "    4) What student has a grade of 40 in their quizzes?\n",
    "    5) How many students have less than 4 homeworks? What are their names?\n",
    "    6) One students has more than 2 tests. Identify the student and fix the error.\n",
    "    7) You can compute the average of a list of numbers using the following expression:\n",
    "    \n",
    "```python\n",
    "\n",
    "List = [1,2,3,4,5,6,7]\n",
    "average = sum(List)/len(List)\n",
    "```\n",
    "    \n",
    "    Using this expression, identify the students with the lowest and highets homework average \n",
    "    \n",
    "     \n",
    "    "
   ]
  },
  {
   "cell_type": "code",
   "execution_count": 2,
   "metadata": {},
   "outputs": [
    {
     "data": {
      "text/plain": [
       "8"
      ]
     },
     "execution_count": 2,
     "metadata": {},
     "output_type": "execute_result"
    }
   ],
   "source": [
    "len(Students)"
   ]
  },
  {
   "cell_type": "code",
   "execution_count": 19,
   "metadata": {},
   "outputs": [
    {
     "data": {
      "text/plain": [
       "['lloyd', 'alice', 'tyler', 'mike', 'james', 'ali', 'daniel', 'juan']"
      ]
     },
     "execution_count": 19,
     "metadata": {},
     "output_type": "execute_result"
    }
   ],
   "source": [
    "keys"
   ]
  },
  {
   "cell_type": "code",
   "execution_count": 30,
   "metadata": {},
   "outputs": [
    {
     "data": {
      "text/plain": [
       "2"
      ]
     },
     "execution_count": 30,
     "metadata": {},
     "output_type": "execute_result"
    }
   ],
   "source": [
    "keys = list(Students)\n",
    "int(100 in Students[keys[0]]['homework'])+int(100 in Students[keys[1]]['homework'])+int(100 in Students[keys[2]]['homework'])+int(100 in Students[keys[3]]['homework'])+int(100 in Students[keys[4]]['homework'])+int(100 in Students[keys[5]]['homework'])+int(100 in Students[keys[6]]['homework'])+int(100 in Students[keys[7]]['homework'])"
   ]
  },
  {
   "cell_type": "code",
   "execution_count": 68,
   "metadata": {},
   "outputs": [],
   "source": [
    "n=7\n",
    "if (len(Students[keys[n]]['quizzes'])<3):print(keys[n])"
   ]
  },
  {
   "cell_type": "code",
   "execution_count": 76,
   "metadata": {},
   "outputs": [],
   "source": [
    "n=7\n",
    "if (40 in Students[keys[n]]['quizzes']):print(keys[n])"
   ]
  },
  {
   "cell_type": "code",
   "execution_count": 78,
   "metadata": {},
   "outputs": [
    {
     "data": {
      "text/plain": [
       "100.0"
      ]
     },
     "execution_count": 78,
     "metadata": {},
     "output_type": "execute_result"
    }
   ],
   "source": [
    "Students[keys[7]]['tests'].pop()"
   ]
  },
  {
   "cell_type": "code",
   "execution_count": 156,
   "metadata": {},
   "outputs": [],
   "source": [
    "keys = list(Students)\n",
    "averageList= [0,0,0,0,0,0,0,0]"
   ]
  },
  {
   "cell_type": "code",
   "execution_count": 164,
   "metadata": {},
   "outputs": [],
   "source": [
    "n=7\n",
    "homework = Students[keys[n]]['homework']\n",
    "averageList[n] = (sum(homework)/len(homework))"
   ]
  },
  {
   "cell_type": "code",
   "execution_count": 139,
   "metadata": {},
   "outputs": [
    {
     "data": {
      "text/plain": [
       "([88.5,\n",
       "  97.5,\n",
       "  46.0,\n",
       "  32.333333333333336,\n",
       "  97.25,\n",
       "  96.66666666666667,\n",
       "  96.25,\n",
       "  96.25],\n",
       " ['lloyd', 'alice', 'tyler', 'mike', 'james', 'ali', 'daniel', 'juan'])"
      ]
     },
     "execution_count": 139,
     "metadata": {},
     "output_type": "execute_result"
    }
   ],
   "source": [
    "averageList, keys"
   ]
  },
  {
   "cell_type": "code",
   "execution_count": 107,
   "metadata": {},
   "outputs": [
    {
     "data": {
      "text/plain": [
       "0"
      ]
     },
     "execution_count": 107,
     "metadata": {},
     "output_type": "execute_result"
    }
   ],
   "source": [
    "len(averageList)"
   ]
  },
  {
   "cell_type": "code",
   "execution_count": 152,
   "metadata": {},
   "outputs": [
    {
     "name": "stdout",
     "output_type": "stream",
     "text": [
      "alice has the max average which is 97.5\n"
     ]
    }
   ],
   "source": [
    "print(f'{keys[averageList.index(max(averageList))]} has the max average which is {max(averageList)}')"
   ]
  },
  {
   "cell_type": "code",
   "execution_count": 153,
   "metadata": {},
   "outputs": [
    {
     "name": "stdout",
     "output_type": "stream",
     "text": [
      "mike has the min average which is 32.333333333333336\n"
     ]
    }
   ],
   "source": [
    "print(f'{keys[averageList.index(min(averageList))]} has the min average which is {min(averageList)}')"
   ]
  },
  {
   "cell_type": "code",
   "execution_count": 165,
   "metadata": {},
   "outputs": [
    {
     "data": {
      "text/plain": [
       "([32.333333333333336,\n",
       "  46.0,\n",
       "  88.5,\n",
       "  96.25,\n",
       "  96.25,\n",
       "  96.66666666666667,\n",
       "  97.25,\n",
       "  97.5],\n",
       " [88.5,\n",
       "  97.5,\n",
       "  46.0,\n",
       "  32.333333333333336,\n",
       "  97.25,\n",
       "  96.66666666666667,\n",
       "  96.25,\n",
       "  96.25])"
      ]
     },
     "execution_count": 165,
     "metadata": {},
     "output_type": "execute_result"
    }
   ],
   "source": [
    "averageListCopy = averageList.copy()\n",
    "averageListCopy.sort()\n",
    "averageListCopy, averageList"
   ]
  },
  {
   "cell_type": "code",
   "execution_count": 169,
   "metadata": {},
   "outputs": [
    {
     "data": {
      "text/plain": [
       "'mike'"
      ]
     },
     "execution_count": 169,
     "metadata": {},
     "output_type": "execute_result"
    }
   ],
   "source": [
    "keys[averageList.index(averageListCopy[0])]"
   ]
  },
  {
   "cell_type": "code",
   "execution_count": 170,
   "metadata": {},
   "outputs": [
    {
     "data": {
      "text/plain": [
       "'alice'"
      ]
     },
     "execution_count": 170,
     "metadata": {},
     "output_type": "execute_result"
    }
   ],
   "source": [
    "keys[averageList.index(averageListCopy[-1])]"
   ]
  },
  {
   "cell_type": "code",
   "execution_count": null,
   "metadata": {},
   "outputs": [],
   "source": []
  }
 ],
 "metadata": {
  "kernelspec": {
   "display_name": "Python 3",
   "language": "python",
   "name": "python3"
  },
  "language_info": {
   "codemirror_mode": {
    "name": "ipython",
    "version": 3
   },
   "file_extension": ".py",
   "mimetype": "text/x-python",
   "name": "python",
   "nbconvert_exporter": "python",
   "pygments_lexer": "ipython3",
   "version": "3.8.3"
  }
 },
 "nbformat": 4,
 "nbformat_minor": 5
}
