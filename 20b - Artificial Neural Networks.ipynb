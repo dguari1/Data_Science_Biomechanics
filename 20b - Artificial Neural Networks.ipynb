{
 "cells": [
  {
   "cell_type": "markdown",
   "metadata": {},
   "source": [
    "Training ANN is often performed using mini-batch SGD. PyTorch offers ready to use functions to split your data into mini-batches for training. \n",
    "\n",
    "Here is a silly example"
   ]
  },
  {
   "cell_type": "code",
   "execution_count": 1,
   "metadata": {},
   "outputs": [
    {
     "data": {
      "text/plain": [
       "Text(0, 0.5, 'y')"
      ]
     },
     "execution_count": 1,
     "metadata": {},
     "output_type": "execute_result"
    },
    {
     "data": {
      "image/png": "[encoded data removed]",
      "text/plain": [
       "<Figure size 432x288 with 1 Axes>"
      ]
     },
     "metadata": {
      "needs_background": "light"
     },
     "output_type": "display_data"
    }
   ],
   "source": [
    "import numpy as np\n",
    "import matplotlib.pyplot as plt\n",
    "import torch\n",
    "\n",
    "X_train = np.arange(10,dtype = float).reshape((10))\n",
    "y_train = np.array([1.0, 1.3, 3.1, 2.0, 5.0, 6.3, 6.6,7.4, 8.0,9.0], dtype='float32')\n",
    "plt.plot(X_train, y_train, 'o', markersize=10)\n",
    "plt.xlabel('x')\n",
    "plt.ylabel('y')"
   ]
  },
  {
   "cell_type": "code",
   "execution_count": 2,
   "metadata": {},
   "outputs": [],
   "source": [
    "X_train = np.arange(10,dtype = 'float32').reshape((10))\n",
    "y_train = np.array([1.0, 1.3, 3.1, 2.0, 5.0, 6.3, 6.6,7.4, 8.0,9.0], dtype='float32')\n",
    "\n",
    "\n",
    "#normalize the data \n",
    "X_train_norm = (X_train - np.mean(X_train)) / np.std(X_train)\n",
    "\n",
    "#conver numpy arrays to PyTorch tensors \n",
    "X_train_norm = torch.from_numpy(X_train_norm)\n",
    "y_train = torch.from_numpy(y_train)\n",
    "\n",
    "#create a TensorDataset \n",
    "train_dataset = torch.utils.data.TensorDataset(X_train_norm, y_train)\n",
    "\n",
    "batch_size =  1\n",
    "#pass the DataSet to a DataLoader with the desired number of elements per batch \n",
    "train_dataloader = torch.utils.data.DataLoader(train_dataset, batch_size, shuffle= True)"
   ]
  },
  {
   "cell_type": "code",
   "execution_count": 3,
   "metadata": {},
   "outputs": [
    {
     "name": "stdout",
     "output_type": "stream",
     "text": [
      "Epoch 0 Loss 35.0056, bias 0.8699, coeff -0.3282\n",
      "Epoch 10 Loss 50.1921, bias 1.6145, coeff 0.2233\n",
      "Epoch 20 Loss 33.1663, bias 2.2239, coeff 0.6746\n",
      "Epoch 30 Loss 0.0077, bias 2.7224, coeff 1.0439\n",
      "Epoch 40 Loss 0.1838, bias 3.1306, coeff 1.3461\n",
      "Epoch 50 Loss 6.5709, bias 3.4645, coeff 1.5933\n",
      "Epoch 60 Loss 4.4373, bias 3.7380, coeff 1.7956\n",
      "Epoch 70 Loss 0.0746, bias 3.9617, coeff 1.9613\n",
      "Epoch 80 Loss 1.4953, bias 4.1447, coeff 2.0967\n",
      "Epoch 90 Loss 1.5766, bias 4.2945, coeff 2.2076\n",
      "Epoch 100 Loss 0.9704, bias 4.4171, coeff 2.2983\n",
      "Epoch 110 Loss 0.7150, bias 4.5176, coeff 2.3725\n",
      "Epoch 120 Loss 0.1913, bias 4.5997, coeff 2.4333\n",
      "Epoch 130 Loss 0.0955, bias 4.6670, coeff 2.4829\n",
      "Epoch 140 Loss 0.5166, bias 4.7220, coeff 2.5236\n",
      "Epoch 150 Loss 0.1672, bias 4.7672, coeff 2.5568\n",
      "Epoch 160 Loss 2.1261, bias 4.8039, coeff 2.5841\n",
      "Epoch 170 Loss 0.1647, bias 4.8341, coeff 2.6063\n",
      "Epoch 180 Loss 0.0649, bias 4.8589, coeff 2.6246\n",
      "Epoch 190 Loss 0.0667, bias 4.8790, coeff 2.6396\n",
      "Epoch 200 Loss 0.2644, bias 4.8956, coeff 2.6517\n",
      "Epoch 210 Loss 0.1351, bias 4.9091, coeff 2.6617\n",
      "Epoch 220 Loss 0.0304, bias 4.9202, coeff 2.6699\n",
      "Epoch 230 Loss 0.2523, bias 4.9292, coeff 2.6766\n",
      "Epoch 240 Loss 0.1371, bias 4.9366, coeff 2.6820\n",
      "Epoch 250 Loss 0.0143, bias 4.9427, coeff 2.6864\n",
      "Epoch 260 Loss 0.2454, bias 4.9477, coeff 2.6901\n",
      "Epoch 270 Loss 0.0109, bias 4.9517, coeff 2.6931\n",
      "Epoch 280 Loss 0.1385, bias 4.9549, coeff 2.6956\n",
      "Epoch 290 Loss 0.0090, bias 4.9576, coeff 2.6976\n"
     ]
    }
   ],
   "source": [
    "\n",
    "\n",
    "loss_fn = torch.nn.MSELoss(reduction='mean')\n",
    "input_size = 1\n",
    "output_size = 1\n",
    "model = torch.nn.Linear(input_size, output_size)\n",
    "learning_rate = 0.001\n",
    "optimizer = torch.optim.SGD(model.parameters(), lr=learning_rate)\n",
    "\n",
    "\n",
    "num_epochs = 300\n",
    "log_epochs = 10\n",
    "for epoch in range(num_epochs):\n",
    "    for x_batch, y_batch in train_dataloader:\n",
    "        \n",
    "        #1. Generate predictions\n",
    "        pred = model(x_batch)\n",
    "        # 2. Calculate loss\n",
    "        loss = loss_fn(pred, y_batch)\n",
    "        # 3. Compute gradients\n",
    "        loss.backward()\n",
    "        # 4. Update parameters using gradients\n",
    "        optimizer.step()\n",
    "        # 5. Reset the gradients to zero\n",
    "        optimizer.zero_grad()\n",
    "        \n",
    "    if epoch % log_epochs==0:\n",
    "        print(f'Epoch {epoch} Loss {loss.item():.4f}, bias {model.bias.detach().item():.4f}, coeff {model.weight.detach().item():.4f}')\n",
    "        #print(f'Epoch {epoch} Loss {loss.item():.4f}')"
   ]
  },
  {
   "cell_type": "code",
   "execution_count": 59,
   "metadata": {},
   "outputs": [
    {
     "data": {
      "text/plain": [
       "Text(0, 0.5, 'y')"
      ]
     },
     "execution_count": 59,
     "metadata": {},
     "output_type": "execute_result"
    },
    {
     "data": {
      "image/png": "[encoded data removed]",
      "text/plain": [
       "<Figure size 432x288 with 1 Axes>"
      ]
     },
     "metadata": {
      "needs_background": "light"
     },
     "output_type": "display_data"
    }
   ],
   "source": [
    "X_train = np.arange(10,dtype = float).reshape((10))\n",
    "y_train = np.array([1.0, 1.3, 3.1, 2.0, 5.0, 6.3, 6.6,7.4, 8.0,9.0], dtype='float32')\n",
    "plt.plot(X_train_norm, y_train, 'o', markersize=10)\n",
    "plt.plot(X_train_norm, X_train_norm*model.weight.detach().item() + model.bias.detach().item())\n",
    "plt.xlabel('x')\n",
    "plt.ylabel('y')"
   ]
  },
  {
   "cell_type": "markdown",
   "metadata": {},
   "source": [
    "## Example 2"
   ]
  },
  {
   "cell_type": "code",
   "execution_count": 4,
   "metadata": {},
   "outputs": [
    {
     "ename": "ModuleNotFoundError",
     "evalue": "No module named 'sklearn'",
     "output_type": "error",
     "traceback": [
      "\u001b[0;31m---------------------------------------------------------------------------\u001b[0m",
      "\u001b[0;31mModuleNotFoundError\u001b[0m                       Traceback (most recent call last)",
      "Input \u001b[0;32mIn [4]\u001b[0m, in \u001b[0;36m<cell line: 1>\u001b[0;34m()\u001b[0m\n\u001b[0;32m----> 1\u001b[0m \u001b[38;5;28;01mfrom\u001b[39;00m \u001b[38;5;21;01msklearn\u001b[39;00m\u001b[38;5;21;01m.\u001b[39;00m\u001b[38;5;21;01mdatasets\u001b[39;00m \u001b[38;5;28;01mimport\u001b[39;00m load_iris\n\u001b[1;32m      2\u001b[0m \u001b[38;5;28;01mfrom\u001b[39;00m \u001b[38;5;21;01msklearn\u001b[39;00m\u001b[38;5;21;01m.\u001b[39;00m\u001b[38;5;21;01mmodel_selection\u001b[39;00m \u001b[38;5;28;01mimport\u001b[39;00m train_test_split\n\u001b[1;32m      3\u001b[0m iris \u001b[38;5;241m=\u001b[39m load_iris()\n",
      "\u001b[0;31mModuleNotFoundError\u001b[0m: No module named 'sklearn'"
     ]
    }
   ],
   "source": [
    "from sklearn.datasets import load_iris\n",
    "from sklearn.model_selection import train_test_split\n",
    "iris = load_iris()\n",
    "\n",
    "X = iris['data']\n",
    "y = iris['target']\n",
    "X_train, X_test, y_train, y_test = train_test_split(X, y, test_size=1./3, random_state=1)\n",
    "\n",
    "X_train_norm = (X_train - np.mean(X_train)) / np.std(X_train)\n",
    "\n",
    "\n",
    "X_train_norm = torch.from_numpy(X_train_norm).float()\n",
    "y_train = torch.from_numpy(y_train).long()\n",
    "\n",
    "train_ds = torch.utils.data.TensorDataset(X_train_norm, y_train)\n",
    "torch.manual_seed(1)\n",
    "batch_size = 10\n",
    "train_dl = torch.utils.data.DataLoader(train_ds, batch_size, shuffle=True)\n",
    "\n",
    "\n",
    "X_test_norm = (X_test - np.mean(X_train)) / np.std(X_train)\n",
    "X_test_norm = torch.from_numpy(X_test_norm).float()\n",
    "y_test = torch.from_numpy(y_test).long()"
   ]
  },
  {
   "cell_type": "code",
   "execution_count": 110,
   "metadata": {},
   "outputs": [],
   "source": [
    "import torch.nn as nn \n",
    "\n",
    "class Model(torch.nn.Module):\n",
    "    def __init__(self, input_size, hidden_size, output_size):\n",
    "        super().__init__()\n",
    "        \n",
    "        self.layer1 = nn.Linear(input_size, hidden_size)\n",
    "        self.layer2 = nn.Linear(hidden_size, output_size)\n",
    "#         self.nonlin = nn.Sigmoid()\n",
    "        self.nonlin = nn.ReLU()\n",
    " \n",
    "    def forward(self, x):\n",
    "        x = self.layer1(x)\n",
    "        x = self.nonlin(x)\n",
    "        x = self.layer2(x)\n",
    "        return x"
   ]
  },
  {
   "cell_type": "code",
   "execution_count": 111,
   "metadata": {},
   "outputs": [],
   "source": [
    "input_size = X_train_norm.shape[1]\n",
    "hidden_size = 16\n",
    "output_size = 3\n",
    " \n",
    "model = Model(input_size, hidden_size, output_size)\n",
    "\n",
    "learning_rate = 0.001\n",
    "\n",
    "loss_fn = nn.CrossEntropyLoss()\n",
    " \n",
    "optimizer = torch.optim.Adam(model.parameters(), lr=learning_rate)\n",
    "\n",
    "num_epochs = 50\n",
    "loss_hist = [0] * num_epochs\n",
    "accuracy_hist = [0] * num_epochs\n",
    "\n",
    "loss_test_hist = [0] * num_epochs\n",
    "accuracy_test_hist = [0] * num_epochs\n",
    "\n",
    "for epoch in range(num_epochs):\n",
    "    model.train() #set the model for training\n",
    "    for x_batch, y_batch in train_dl:\n",
    "        pred = model(x_batch)\n",
    "        loss = loss_fn(pred, y_batch)\n",
    "        loss.backward()\n",
    "        optimizer.step()\n",
    "        optimizer.zero_grad()\n",
    "    \n",
    "        loss_hist[epoch] += loss.item()*y_batch.size(0)\n",
    "        is_correct = (torch.argmax(pred, dim=1) == y_batch).float()\n",
    "        accuracy_hist[epoch] += is_correct.sum()\n",
    "        \n",
    "    loss_hist[epoch] /= len(train_dl.dataset)\n",
    "    accuracy_hist[epoch] /= len(train_dl.dataset)\n",
    "    \n",
    "    \n",
    "    #compute the testing accuracy \n",
    "    with torch.no_grad():\n",
    "        model.eval() #set the model for evaluation \n",
    "        pred_test = model(X_test_norm)\n",
    "\n",
    "        correct = (torch.argmax(pred_test, dim=1) == y_test).float()\n",
    "        accuracy_test_hist[epoch] = correct.mean()\n",
    "\n",
    "        loss_test = loss_fn(pred_test, y_test)\n",
    "        loss_test_hist[epoch] = loss_test.item()"
   ]
  },
  {
   "cell_type": "code",
   "execution_count": 112,
   "metadata": {},
   "outputs": [
    {
     "data": {
      "image/png": "[encoded data removed]",
      "text/plain": [
       "<Figure size 864x360 with 2 Axes>"
      ]
     },
     "metadata": {
      "needs_background": "light"
     },
     "output_type": "display_data"
    }
   ],
   "source": [
    "fig = plt.figure(figsize=(12, 5))\n",
    "ax = fig.add_subplot(1, 2, 1)\n",
    "ax.plot(loss_hist, lw=3, label='Train')\n",
    "ax.plot(loss_test_hist, lw=3, label='Test')\n",
    "ax.set_title('Loss', size=15)\n",
    "ax.set_xlabel('Epoch', size=15)\n",
    "ax.tick_params(axis='both', which='major', labelsize=15)\n",
    "ax.legend(fontsize=15)\n",
    "\n",
    "ax = fig.add_subplot(1, 2, 2)\n",
    "ax.plot(accuracy_hist, lw=3, label='Train')\n",
    "ax.plot(accuracy_test_hist, lw=3, label='Test')\n",
    "ax.set_title('Accuracy', size=15)\n",
    "ax.set_xlabel('Epoch', size=15)\n",
    "ax.tick_params(axis='both', which='major', labelsize=15)\n",
    "ax.legend(fontsize=15)\n",
    "plt.tight_layout()\n",
    "\n",
    "plt.show()"
   ]
  },
  {
   "cell_type": "markdown",
   "metadata": {},
   "source": [
    "### A more complex example\n",
    "\n",
    "MNIST dataset is a dataset composed of hundreds of images of handwritten digits. The images have been digitalized and converted to black and white. \n"
   ]
  },
  {
   "cell_type": "code",
   "execution_count": 5,
   "metadata": {},
   "outputs": [],
   "source": [
    "import torchvision.datasets as datasets\n",
    "mnist_trainset = datasets.MNIST(root='./data', train=True, download=True, transform=None)\n",
    "mnist_testset = datasets.MNIST(root='./data', train=False, download=True, transform=None)"
   ]
  },
  {
   "cell_type": "code",
   "execution_count": 6,
   "metadata": {},
   "outputs": [
    {
     "data": {
      "text/plain": [
       "<matplotlib.image.AxesImage at 0x7fab6e692f10>"
      ]
     },
     "execution_count": 6,
     "metadata": {},
     "output_type": "execute_result"
    },
    {
     "data": {
      "image/png": "[encoded data removed]",
      "text/plain": [
       "<Figure size 432x288 with 1 Axes>"
      ]
     },
     "metadata": {
      "needs_background": "light"
     },
     "output_type": "display_data"
    }
   ],
   "source": [
    "img, label  = mnist_trainset[0]\n",
    "plt.imshow(img)"
   ]
  },
  {
   "cell_type": "code",
   "execution_count": 133,
   "metadata": {},
   "outputs": [
    {
     "name": "stdout",
     "output_type": "stream",
     "text": [
      "5\n"
     ]
    }
   ],
   "source": [
    "print(label)"
   ]
  },
  {
   "cell_type": "code",
   "execution_count": 142,
   "metadata": {},
   "outputs": [
    {
     "name": "stdout",
     "output_type": "stream",
     "text": [
      "(28, 28)\n"
     ]
    }
   ],
   "source": [
    "print(img.size)"
   ]
  },
  {
   "cell_type": "code",
   "execution_count": 135,
   "metadata": {},
   "outputs": [
    {
     "data": {
      "text/plain": [
       "<matplotlib.image.AxesImage at 0x1bd39631940>"
      ]
     },
     "execution_count": 135,
     "metadata": {},
     "output_type": "execute_result"
    },
    {
     "data": {
      "image/png": "[encoded data removed]",
      "text/plain": [
       "<Figure size 432x288 with 1 Axes>"
      ]
     },
     "metadata": {
      "needs_background": "light"
     },
     "output_type": "display_data"
    }
   ],
   "source": [
    "img, label  = mnist_trainset[1520]\n",
    "plt.imshow(img)"
   ]
  },
  {
   "cell_type": "code",
   "execution_count": 136,
   "metadata": {},
   "outputs": [
    {
     "name": "stdout",
     "output_type": "stream",
     "text": [
      "6\n"
     ]
    }
   ],
   "source": [
    "print(label)"
   ]
  },
  {
   "cell_type": "code",
   "execution_count": 143,
   "metadata": {},
   "outputs": [
    {
     "name": "stdout",
     "output_type": "stream",
     "text": [
      "(28, 28)\n"
     ]
    }
   ],
   "source": [
    "print(img.size)"
   ]
  },
  {
   "cell_type": "markdown",
   "metadata": {},
   "source": [
    "We need to create a DataSet that can load this data. The standard ```TensorDataSet``` cannot be used because the data comes in pairs (and image and a label), so we need to create a custom dataset\n",
    "\n",
    "To do that, we are going to create a class that inherits from Dataset\n"
   ]
  },
  {
   "cell_type": "code",
   "execution_count": 7,
   "metadata": {},
   "outputs": [],
   "source": [
    "#the class must have three methods:\n",
    "\n",
    "# __init__ -> defines the components\n",
    "# __getitem__ -> defines the logic to get the data\n",
    "#__len__ -> simply returns the length of the dataset\n",
    "\n",
    "class DatasetTransformer(torch.utils.data.Dataset):\n",
    "\n",
    "    def __init__(self, data, transform):\n",
    "        self.data= data\n",
    "        self.transform = transform\n",
    "\n",
    "    def __getitem__(self, index):\n",
    "        #get the image and the label\n",
    "        img, label= self.data[index]\n",
    "        return self.transform(img), label\n",
    "\n",
    "    def __len__(self):\n",
    "        return len(self.data)\n"
   ]
  },
  {
   "cell_type": "code",
   "execution_count": 8,
   "metadata": {},
   "outputs": [],
   "source": [
    "import torchvision.transforms as transforms\n",
    "\n",
    "#we are going to transform the image into a pytorch tensor\n",
    "train_dataset_full = DatasetTransformer(mnist_trainset, transforms.ToTensor())\n",
    "test_dataset  = DatasetTransformer(mnist_testset, transforms.ToTensor())"
   ]
  },
  {
   "cell_type": "code",
   "execution_count": 9,
   "metadata": {},
   "outputs": [],
   "source": [
    "#take a small sample of data\n",
    "import random\n",
    "idx = list(range(len(train_dataset)))\n",
    "random.shuffle(idx)\n",
    "train_dataset = torch.utils.data.Subset(train_dataset_full, idx[0:1000])"
   ]
  },
  {
   "cell_type": "code",
   "execution_count": 17,
   "metadata": {},
   "outputs": [],
   "source": [
    "#mow you can create the DataLoaders with a specific batchsize\n",
    "\n",
    "batch_size  = 128   # Using minibatches of 128 samples\n",
    "\n",
    "train_loader = torch.utils.data.DataLoader(dataset=train_dataset,\n",
    "                                          batch_size=batch_size,\n",
    "                                          shuffle=True)\n",
    "\n",
    "test_loader = torch.utils.data.DataLoader(dataset=test_dataset,\n",
    "                                          batch_size=batch_size, \n",
    "                                          shuffle=False)"
   ]
  },
  {
   "cell_type": "code",
   "execution_count": 18,
   "metadata": {},
   "outputs": [],
   "source": [
    "data_from_loader = next(iter(train_loader))"
   ]
  },
  {
   "cell_type": "code",
   "execution_count": 19,
   "metadata": {},
   "outputs": [
    {
     "data": {
      "text/plain": [
       "torch.Size([10, 1, 28, 28])"
      ]
     },
     "execution_count": 19,
     "metadata": {},
     "output_type": "execute_result"
    }
   ],
   "source": [
    "data_from_loader[0].size()"
   ]
  },
  {
   "cell_type": "code",
   "execution_count": 16,
   "metadata": {},
   "outputs": [
    {
     "name": "stdout",
     "output_type": "stream",
     "text": [
      "torch.Size([1, 28, 28]) 1\n",
      "torch.Size([1, 28, 28]) 9\n"
     ]
    },
    {
     "ename": "IndexError",
     "evalue": "index 127 is out of bounds for dimension 0 with size 10",
     "output_type": "error",
     "traceback": [
      "\u001b[0;31m---------------------------------------------------------------------------\u001b[0m",
      "\u001b[0;31mIndexError\u001b[0m                                Traceback (most recent call last)",
      "Input \u001b[0;32mIn [16]\u001b[0m, in \u001b[0;36m<cell line: 5>\u001b[0;34m()\u001b[0m\n\u001b[1;32m      1\u001b[0m \u001b[38;5;28mprint\u001b[39m(data_from_loader[\u001b[38;5;241m0\u001b[39m][\u001b[38;5;241m0\u001b[39m]\u001b[38;5;241m.\u001b[39msize(), data_from_loader[\u001b[38;5;241m1\u001b[39m][\u001b[38;5;241m0\u001b[39m]\u001b[38;5;241m.\u001b[39mitem())\n\u001b[1;32m      3\u001b[0m \u001b[38;5;28mprint\u001b[39m(data_from_loader[\u001b[38;5;241m0\u001b[39m][\u001b[38;5;241m1\u001b[39m]\u001b[38;5;241m.\u001b[39msize(), data_from_loader[\u001b[38;5;241m1\u001b[39m][\u001b[38;5;241m1\u001b[39m]\u001b[38;5;241m.\u001b[39mitem())\n\u001b[0;32m----> 5\u001b[0m \u001b[38;5;28mprint\u001b[39m(\u001b[43mdata_from_loader\u001b[49m\u001b[43m[\u001b[49m\u001b[38;5;241;43m0\u001b[39;49m\u001b[43m]\u001b[49m\u001b[43m[\u001b[49m\u001b[38;5;241;43m127\u001b[39;49m\u001b[43m]\u001b[49m\u001b[38;5;241m.\u001b[39msize(), data_from_loader[\u001b[38;5;241m1\u001b[39m][\u001b[38;5;241m127\u001b[39m]\u001b[38;5;241m.\u001b[39mitem())\n",
      "\u001b[0;31mIndexError\u001b[0m: index 127 is out of bounds for dimension 0 with size 10"
     ]
    }
   ],
   "source": [
    "print(data_from_loader[0][0].size(), data_from_loader[1][0].item())\n",
    "\n",
    "print(data_from_loader[0][1].size(), data_from_loader[1][1].item())\n",
    "\n",
    "print(data_from_loader[0][127].size(), data_from_loader[1][127].item())"
   ]
  },
  {
   "cell_type": "code",
   "execution_count": 243,
   "metadata": {},
   "outputs": [
    {
     "ename": "IndexError",
     "evalue": "index 128 is out of bounds for dimension 0 with size 128",
     "output_type": "error",
     "traceback": [
      "\u001b[1;31m---------------------------------------------------------------------------\u001b[0m",
      "\u001b[1;31mIndexError\u001b[0m                                Traceback (most recent call last)",
      "\u001b[1;32m<ipython-input-243-500a1e52cb33>\u001b[0m in \u001b[0;36m<module>\u001b[1;34m\u001b[0m\n\u001b[1;32m----> 1\u001b[1;33m \u001b[0mprint\u001b[0m\u001b[1;33m(\u001b[0m\u001b[0mdata_from_loader\u001b[0m\u001b[1;33m[\u001b[0m\u001b[1;36m0\u001b[0m\u001b[1;33m]\u001b[0m\u001b[1;33m[\u001b[0m\u001b[1;36m128\u001b[0m\u001b[1;33m]\u001b[0m\u001b[1;33m.\u001b[0m\u001b[0msize\u001b[0m\u001b[1;33m(\u001b[0m\u001b[1;33m)\u001b[0m\u001b[1;33m,\u001b[0m \u001b[0mdata_from_loader\u001b[0m\u001b[1;33m[\u001b[0m\u001b[1;36m1\u001b[0m\u001b[1;33m]\u001b[0m\u001b[1;33m[\u001b[0m\u001b[1;36m128\u001b[0m\u001b[1;33m]\u001b[0m\u001b[1;33m.\u001b[0m\u001b[0mitem\u001b[0m\u001b[1;33m(\u001b[0m\u001b[1;33m)\u001b[0m\u001b[1;33m)\u001b[0m\u001b[1;33m\u001b[0m\u001b[1;33m\u001b[0m\u001b[0m\n\u001b[0m",
      "\u001b[1;31mIndexError\u001b[0m: index 128 is out of bounds for dimension 0 with size 128"
     ]
    }
   ],
   "source": [
    "print(data_from_loader[0][128].size(), data_from_loader[1][128].item())"
   ]
  },
  {
   "cell_type": "code",
   "execution_count": 244,
   "metadata": {},
   "outputs": [],
   "source": [
    "class LinearNet(nn.Module):\n",
    "    def __init__(self, input_size, num_classes):\n",
    "        super(LinearNet, self).__init__()\n",
    "        self.input_size = input_size\n",
    "        self.classifier = nn.Linear(self.input_size, num_classes)\n",
    "\n",
    "    def forward(self, x):\n",
    "        #make the image into a long vector\n",
    "        x = x.view(x.size()[0], -1)\n",
    "        y = self.classifier(x)\n",
    "        return y\n",
    "\n",
    "model = LinearNet(1*28*28, 10)"
   ]
  },
  {
   "cell_type": "code",
   "execution_count": 245,
   "metadata": {},
   "outputs": [
    {
     "name": "stdout",
     "output_type": "stream",
     "text": [
      "torch.Size([128, 10])\n"
     ]
    }
   ],
   "source": [
    "#check if the model works\n",
    "out = model(data_from_loader[0])\n",
    "print(out.size())"
   ]
  },
  {
   "cell_type": "code",
   "execution_count": 246,
   "metadata": {},
   "outputs": [
    {
     "name": "stdout",
     "output_type": "stream",
     "text": [
      "Epoch 0 Loss 1.45434202, accuracy  0.6010\n",
      "        test-Loss 0.87496066, test-accuracy  0.7576\n",
      "Epoch 5 Loss 0.25213795, accuracy  0.9370\n",
      "        test-Loss 0.26923558, test-accuracy  0.8642\n",
      "Epoch 10 Loss 0.14734407, accuracy  0.9720\n",
      "        test-Loss 0.15538821, test-accuracy  0.8669\n",
      "Epoch 15 Loss 0.09796015, accuracy  0.9890\n",
      "        test-Loss 0.10025016, test-accuracy  0.8646\n",
      "Epoch 20 Loss 0.06920142, accuracy  0.9990\n",
      "        test-Loss 0.06595994, test-accuracy  0.8639\n",
      "Epoch 25 Loss 0.05129300, accuracy  1.0000\n",
      "        test-Loss 0.05937201, test-accuracy  0.8636\n"
     ]
    }
   ],
   "source": [
    "learning_rate = 0.01\n",
    "\n",
    "loss_fn = nn.CrossEntropyLoss()\n",
    " \n",
    "optimizer = torch.optim.Adam(model.parameters(), lr=learning_rate)\n",
    "\n",
    "num_epochs = 30\n",
    "loss_hist = [0] * num_epochs\n",
    "accuracy_hist = [0] * num_epochs\n",
    "\n",
    "loss_test_hist = [0] * num_epochs\n",
    "accuracy_test_hist = [0] * num_epochs\n",
    "\n",
    "log_epochs=5\n",
    "\n",
    "for epoch in range(num_epochs):\n",
    "    model.train() #set the model for training\n",
    "    for x_batch, y_batch in train_loader:\n",
    "        pred = model(x_batch)\n",
    "        loss = loss_fn(pred, y_batch)\n",
    "        loss.backward()\n",
    "        optimizer.step()\n",
    "        optimizer.zero_grad()\n",
    "    \n",
    "        loss_hist[epoch] += loss.item()*y_batch.size(0)\n",
    "        is_correct = (torch.argmax(pred, dim=1) == y_batch).float()\n",
    "        predicted_targets = torch.argmax(pred, dim=1)\n",
    "        accuracy_hist[epoch] += (predicted_targets == y_batch).sum().item()\n",
    "        \n",
    "    loss_hist[epoch] /= len(train_loader.dataset)\n",
    "    accuracy_hist[epoch] /= len(train_loader.dataset)\n",
    "    \n",
    "    \n",
    "    #compute the testing accuracy \n",
    "    with torch.no_grad():\n",
    "        model.eval() #set the model for evaluation \n",
    "        for x_batch, y_batch in test_loader:\n",
    "            pred_test = model(x_batch)\n",
    "\n",
    "            predicted_targets = torch.argmax(pred_test, dim=1)\n",
    "            accuracy_test_hist[epoch] += (predicted_targets == y_batch).sum().item()\n",
    "\n",
    "            loss_test = loss_fn(pred_test, y_batch)\n",
    "            loss_test_hist[epoch] += loss.item()*y_batch.size(0)\n",
    "        \n",
    "        accuracy_test_hist[epoch] /= len(test_loader.dataset)\n",
    "        loss_test_hist[epoch] /= len(test_loader.dataset)\n",
    "        \n",
    "    if epoch % log_epochs==0:\n",
    "        print(f'Epoch {epoch} Loss {loss_hist[epoch]:.8f}, accuracy  {accuracy_hist[epoch]:0.4f}')\n",
    "        print(f'        test-Loss {loss_test_hist[epoch]:.8f}, test-accuracy  {accuracy_test_hist[epoch]:0.4f}')"
   ]
  },
  {
   "cell_type": "code",
   "execution_count": 247,
   "metadata": {},
   "outputs": [
    {
     "data": {
      "image/png": "[encoded data removed]",
      "text/plain": [
       "<Figure size 864x360 with 2 Axes>"
      ]
     },
     "metadata": {
      "needs_background": "light"
     },
     "output_type": "display_data"
    }
   ],
   "source": [
    "fig = plt.figure(figsize=(12, 5))\n",
    "ax = fig.add_subplot(1, 2, 1)\n",
    "ax.plot(loss_hist, lw=3, label='Train')\n",
    "ax.plot(loss_test_hist, lw=3, label='Test')\n",
    "ax.set_title('Loss', size=15)\n",
    "ax.set_xlabel('Epoch', size=15)\n",
    "ax.tick_params(axis='both', which='major', labelsize=15)\n",
    "ax.legend(fontsize=15)\n",
    "\n",
    "ax = fig.add_subplot(1, 2, 2)\n",
    "ax.plot(accuracy_hist, lw=3, label='Train')\n",
    "ax.plot(accuracy_test_hist, lw=3, label='Test')\n",
    "ax.set_title('Accuracy', size=15)\n",
    "ax.set_xlabel('Epoch', size=15)\n",
    "ax.tick_params(axis='both', which='major', labelsize=15)\n",
    "ax.legend(fontsize=15)\n",
    "plt.tight_layout()\n",
    "\n",
    "plt.show()"
   ]
  },
  {
   "cell_type": "code",
   "execution_count": null,
   "metadata": {},
   "outputs": [],
   "source": []
  }
 ],
 "metadata": {
  "kernelspec": {
   "display_name": "Python 3",
   "language": "python",
   "name": "python3"
  },
  "language_info": {
   "codemirror_mode": {
    "name": "ipython",
    "version": 3
   },
   "file_extension": ".py",
   "mimetype": "text/x-python",
   "name": "python",
   "nbconvert_exporter": "python",
   "pygments_lexer": "ipython3",
   "version": "3.8.3"
  }
 },
 "nbformat": 4,
 "nbformat_minor": 5
}
