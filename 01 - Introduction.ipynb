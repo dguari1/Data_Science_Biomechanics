{
 "cells": [
  {
   "cell_type": "markdown",
   "id": "adf88999",
   "metadata": {
    "slideshow": {
     "slide_type": "slide"
    }
   },
   "source": [
    "# Data Science applied to Biomechanics\n",
    "\n",
    "\n",
    "Room: FLG 235 <br>\n",
    "Time: Th 8:30 am - 11:30 am <br>\n"
   ]
  },
  {
   "cell_type": "markdown",
   "id": "9cad1e0b",
   "metadata": {
    "slideshow": {
     "slide_type": "slide"
    }
   },
   "source": [
    "### Instructor: Diego L. Guarin, Ph.D.\n",
    "Email: d.guarinlopez@ufl.edu <br>\n",
    "Office: FLG 132 <br>\n",
    "Open Door Hours: M 10:00am - 12:00 pm (Zoom/in-person)"
   ]
  },
  {
   "cell_type": "markdown",
   "id": "9b6a71a3",
   "metadata": {
    "slideshow": {
     "slide_type": "slide"
    }
   },
   "source": [
    "Evaluation\n",
    "\n",
    "| Evaluation Component      | % of Grade |\n",
    "| ----------- | ----------- |\n",
    "| In-class Quizzes (5)     | 10%       |\n",
    "| Homework (5) | 50%      |\n",
    "| Project Presentation (1) | 15%      |\n",
    "| Final Project (1) | 25%      |\n",
    "| Extra Credit | up to 10%     |"
   ]
  },
  {
   "cell_type": "markdown",
   "id": "191615f7",
   "metadata": {
    "slideshow": {
     "slide_type": "slide"
    }
   },
   "source": [
    "### Homework\n",
    "\n",
    "- Will be posted online on Thursdays\n",
    "- Due in two weeks by the end of the day\n",
    "- Think of assigments as mini-projects. They might require significant time to complete"
   ]
  },
  {
   "cell_type": "markdown",
   "id": "7d019c09",
   "metadata": {
    "slideshow": {
     "slide_type": "subslide"
    }
   },
   "source": [
    "## Homework\n",
    "\n",
    "- Group discussions are encouraged\n",
    "- Each students must provide original solutions to the problems\n",
    "- Must submitt written report + code \n",
    "- I should be able to read/understand and execute your code!"
   ]
  },
  {
   "cell_type": "markdown",
   "id": "5d2c6a54",
   "metadata": {
    "slideshow": {
     "slide_type": "slide"
    }
   },
   "source": [
    "## Final Project\n",
    "\n",
    "Students are expected to employ the methods/techniques discussed in class to solve a problem related to biomechanics. \n",
    "\n",
    "Projects can be original reasearch problems or derived from published research"
   ]
  },
  {
   "cell_type": "markdown",
   "id": "58b6e342",
   "metadata": {
    "slideshow": {
     "slide_type": "subslide"
    }
   },
   "source": [
    "## Final Project\n",
    "\n",
    "Write a report summarizing the problem and the proposed solution. The report should be written as a research paper including the following sections:\n",
    "\n",
    "- Introduction\n",
    "- Methods\n",
    "- Results \n",
    "- Discussion \n",
    "\n",
    "The report must include appropriate citations using the APA style. Report lenght must be around 10 pages.  \n"
   ]
  },
  {
   "cell_type": "markdown",
   "id": "7236cfbf",
   "metadata": {
    "slideshow": {
     "slide_type": "subslide"
    }
   },
   "source": [
    "## Final Project\n",
    "\n",
    "The code and data employed during the project must be submitted as part of the final report. Students must ensure that the code can be executed by others. \n",
    "\n",
    "The final project is due by the end of the day on the Monday of the Exams Week. \n"
   ]
  },
  {
   "cell_type": "markdown",
   "id": "c2e5efd0",
   "metadata": {
    "slideshow": {
     "slide_type": "subslide"
    }
   },
   "source": [
    "## Final Project\n",
    "\n",
    "The most challenging part of the project will be to collect and clean the data. It is important to define the source of your data early on to avoid last minute changes."
   ]
  },
  {
   "cell_type": "markdown",
   "id": "d30055d4",
   "metadata": {
    "slideshow": {
     "slide_type": "slide"
    }
   },
   "source": [
    "## Final Project Presentation\n",
    "\n",
    "Students will present their project to the class during a 15-minute presentation. Presentations must summarize the research project and present preliminary results. \n",
    "\n",
    "Presentation will occur on the last day of class (Week of April 17)\n"
   ]
  },
  {
   "cell_type": "markdown",
   "id": "73a49a48",
   "metadata": {
    "slideshow": {
     "slide_type": "slide"
    }
   },
   "source": [
    "## Extra Credit \n",
    "\n",
    "Students can earn up to 10 points of extra credit on this course.  Extra credit will be provided to students who acquire their own data for the homework and project. Students might work in teams (up to two students) for data collection, each student must submit individual homework/project. "
   ]
  },
  {
   "cell_type": "markdown",
   "id": "ecdb2517",
   "metadata": {
    "slideshow": {
     "slide_type": "slide"
    }
   },
   "source": [
    "## Topics to be covered in class\n",
    "\n",
    "- Introduction to Python\n",
    "- Biomechanical Data \n",
    "- Acquiring Data and Visualization \n",
    "- Introduction to Machine Learning\n",
    "- Markerless Motion Tracking \n",
    "- Applications\n",
    "\n",
    "Detailed description in syllabus"
   ]
  },
  {
   "cell_type": "markdown",
   "id": "b9ed8709",
   "metadata": {
    "slideshow": {
     "slide_type": "slide"
    }
   },
   "source": [
    "At the end of this course students should be able to:\n",
    "\n",
    "1. Use the Python programming language to solve basic programming challenges"
   ]
  },
  {
   "cell_type": "markdown",
   "id": "bcab0d5e",
   "metadata": {
    "slideshow": {
     "slide_type": "subslide"
    }
   },
   "source": [
    "2. Analyze biomechanics data using the Python programming language"
   ]
  },
  {
   "cell_type": "markdown",
   "id": "c6093d2b",
   "metadata": {
    "slideshow": {
     "slide_type": "subslide"
    }
   },
   "source": [
    "3. Identify and use data science algorithms for inferring relationships between data"
   ]
  },
  {
   "cell_type": "markdown",
   "id": "7b8067ce",
   "metadata": {
    "slideshow": {
     "slide_type": "subslide"
    }
   },
   "source": [
    "4. Formulate and develop a solution to analyze biomechanical data employing data science approaches"
   ]
  },
  {
   "cell_type": "markdown",
   "id": "d79df5be",
   "metadata": {
    "slideshow": {
     "slide_type": "slide"
    }
   },
   "source": [
    "## Books \n",
    "\n",
    "There are no required books for this class. Class material will be posted online.\n",
    "\n",
    "Recomended Books:\n"
   ]
  },
  {
   "cell_type": "markdown",
   "id": "07aab365",
   "metadata": {
    "slideshow": {
     "slide_type": "subslide"
    }
   },
   "source": [
    "Python\n",
    "\n",
    "- Matthes, Eric. “Python crash course: A hands on, project-based introduction to programming.” no starch press, 2019.\n",
    "- Kong, Qingkai, Siauw, Timmy, and Bayen, Alexandre. “Python Programming and Numerical Methods: A Guide for Engineers and Scientists.” Elsevier, 2020.\n",
    "\n"
   ]
  },
  {
   "cell_type": "markdown",
   "id": "cb00222e",
   "metadata": {
    "slideshow": {
     "slide_type": "subslide"
    }
   },
   "source": [
    "Data Science\n",
    "\n",
    "- Raschka, Sebastian, and Vahid, Mirjalili. “Machine learning with Pytorch and Scikit - Learn.” Packt Publishing, 2022\n",
    "- Howard, Jeremy, and Sylvain Gugger. “Deep Learning for Coders with fastai and PyTorch.” O'Reilly Media, 2020.\n"
   ]
  },
  {
   "cell_type": "markdown",
   "id": "bf6d915e",
   "metadata": {
    "slideshow": {
     "slide_type": "subslide"
    }
   },
   "source": [
    "Biomechanics\n",
    "\n",
    "- Winter, David A. “Biomechanics and motor control of human movement.” John Wiley & Sons, 2009.\n",
    "- Uchida, Thomas K., and Scott L. Delp. “Biomechanics of movement: the science of sports, robotics, and rehabilitation.” MIT Press, 2021.\n"
   ]
  },
  {
   "cell_type": "code",
   "execution_count": null,
   "id": "da5c4cc4",
   "metadata": {},
   "outputs": [],
   "source": []
  }
 ],
 "metadata": {
  "celltoolbar": "Slideshow",
  "kernelspec": {
   "display_name": "Python 3 (ipykernel)",
   "language": "python",
   "name": "python3"
  },
  "language_info": {
   "codemirror_mode": {
    "name": "ipython",
    "version": 3
   },
   "file_extension": ".py",
   "mimetype": "text/x-python",
   "name": "python",
   "nbconvert_exporter": "python",
   "pygments_lexer": "ipython3",
   "version": "3.8.15"
  }
 },
 "nbformat": 4,
 "nbformat_minor": 5
}
