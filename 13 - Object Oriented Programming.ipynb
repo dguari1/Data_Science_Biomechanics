{
 "cells": [
  {
   "cell_type": "markdown",
   "metadata": {},
   "source": [
    "## Object Oriented Programming\n",
    "\n",
    "Python, and most modern languages, are object-oriented programming (OOP) languages. Python code heavily relies on ```classes```.\n",
    "\n",
    "So far, our code has been organized into a disjointed collection of variables, data structures, and functions. This type of programming, known as **procedure-oriented programming (POP)** is commonly used when dealing with small program that solve a simple problem. \n",
    "\n",
    "***OOP*** breaks the programming task into different *objects* which combine variables (or attributes) and functions (or methods) into a single entity. \n",
    "\n",
    "A ```class``` defines a logical grouping of attributes and methods. It provides a way to model real-word entities. \n",
    "\n",
    "An ```object``` is an instance of the class with actual values. You can have many objects of the same class with different values "
   ]
  },
  {
   "cell_type": "markdown",
   "metadata": {},
   "source": [
    "Next we will create a ```class``` ***People*** and will create different instances of it to represent different people. \n"
   ]
  },
  {
   "cell_type": "code",
   "execution_count": 6,
   "metadata": {},
   "outputs": [],
   "source": [
    "class People (): #note the class is a python keyword\n",
    "    def __init__(self, name, age):\n",
    "        \n",
    "        self.name = name\n",
    "        self.age = age\n",
    "        \n",
    "    def print_greetings(self):\n",
    "        print(f\"Hi {self.name}, how are you?\")\n",
    "        \n",
    "    def print_age(self):\n",
    "        print(f\"{self.name} is {self.age} years old\")"
   ]
  },
  {
   "cell_type": "code",
   "execution_count": 7,
   "metadata": {},
   "outputs": [],
   "source": [
    "person1 = People(name=\"Andres\", age = 45)\n",
    "#notice that nothings happens here, we are \n",
    "#just creating an object (person1) by \n",
    "#instancing the class People"
   ]
  },
  {
   "cell_type": "code",
   "execution_count": 8,
   "metadata": {},
   "outputs": [
    {
     "name": "stdout",
     "output_type": "stream",
     "text": [
      "Hi Andres, how are you?\n"
     ]
    }
   ],
   "source": [
    "person1.print_greetings()"
   ]
  },
  {
   "cell_type": "code",
   "execution_count": 9,
   "metadata": {},
   "outputs": [
    {
     "name": "stdout",
     "output_type": "stream",
     "text": [
      "Andres is 45 years old\n"
     ]
    }
   ],
   "source": [
    "person1.print_age()"
   ]
  },
  {
   "cell_type": "markdown",
   "metadata": {},
   "source": [
    "We can also access directly the attributes of the class using the ```.``` notation"
   ]
  },
  {
   "cell_type": "code",
   "execution_count": 10,
   "metadata": {},
   "outputs": [
    {
     "name": "stdout",
     "output_type": "stream",
     "text": [
      "45\n",
      "Andres\n"
     ]
    }
   ],
   "source": [
    "print(person1.age) \n",
    "print(person1.name)"
   ]
  },
  {
   "cell_type": "code",
   "execution_count": 11,
   "metadata": {},
   "outputs": [
    {
     "name": "stdout",
     "output_type": "stream",
     "text": [
      "Hi Daniel, how are you?\n",
      "Daniel is 5 years old\n"
     ]
    }
   ],
   "source": [
    "person2 = People(name=\"Daniel\", age = 5)\n",
    "person2.print_greetings()\n",
    "person2.print_age()"
   ]
  },
  {
   "cell_type": "markdown",
   "metadata": {},
   "source": [
    "You can also modify the attributes without having to re-create the class"
   ]
  },
  {
   "cell_type": "code",
   "execution_count": 12,
   "metadata": {},
   "outputs": [
    {
     "name": "stdout",
     "output_type": "stream",
     "text": [
      "Daniel is 15 years old\n"
     ]
    }
   ],
   "source": [
    "person2.age = 15\n",
    "person2.print_age()"
   ]
  },
  {
   "cell_type": "markdown",
   "metadata": {},
   "source": [
    "Note that the attributes must be added to the special variable ```self``` (by the way, you don't need to call that *self*, but everyone calls it *self*, so you should do it as well. "
   ]
  },
  {
   "cell_type": "code",
   "execution_count": 16,
   "metadata": {},
   "outputs": [],
   "source": [
    "class People (): #note the class is a python keyword\n",
    "    def __init__(self, name, age):\n",
    "        \n",
    "        self.name = name\n",
    "        self.age = age\n",
    "        \n",
    "    def print_greetings(self):\n",
    "        print(f\"Hi {self.name}, how are you?\")\n",
    "        \n",
    "    def print_age(self):\n",
    "        print(f\"{self.name} is {self.age} years old\")"
   ]
  },
  {
   "cell_type": "code",
   "execution_count": 17,
   "metadata": {},
   "outputs": [
    {
     "name": "stdout",
     "output_type": "stream",
     "text": [
      "Andres is 23 years old\n"
     ]
    }
   ],
   "source": [
    "person1 = People(\"Andres\", 23)\n",
    "person1.print_age()"
   ]
  },
  {
   "cell_type": "markdown",
   "metadata": {},
   "source": [
    "You can also set the methods of a class to accept inputs"
   ]
  },
  {
   "cell_type": "code",
   "execution_count": 25,
   "metadata": {},
   "outputs": [],
   "source": [
    "class People (): #note the class is a python keyword\n",
    "    def __init__(self, name, age):\n",
    "        \n",
    "        self.name = name\n",
    "        self.age = age\n",
    "        self.month = None\n",
    "        \n",
    "    def print_greetings(self):\n",
    "        print(f\"Hi {self.name}, how are you?\")\n",
    "        print(self.month)\n",
    "        \n",
    "    def print_age(self, month=None):\n",
    "        print(f\"{self.name} is {self.age} years old\")\n",
    "        if month:\n",
    "            self.month = month\n",
    "            print(f\"{self.name} was born in {month}\")\n",
    "            "
   ]
  },
  {
   "cell_type": "code",
   "execution_count": 27,
   "metadata": {},
   "outputs": [
    {
     "name": "stdout",
     "output_type": "stream",
     "text": [
      "Hi Andres, how are you?\n",
      "None\n",
      "Andres is 23 years old\n",
      "Andres was born in january\n",
      "Hi Andres, how are you?\n",
      "january\n"
     ]
    }
   ],
   "source": [
    "person1 = People(\"Andres\", 23)\n",
    "person1.print_greetings()\n",
    "person1.print_age('january')\n",
    "person1.print_greetings()"
   ]
  },
  {
   "cell_type": "code",
   "execution_count": 19,
   "metadata": {},
   "outputs": [
    {
     "name": "stdout",
     "output_type": "stream",
     "text": [
      "Andres is 23 years old\n"
     ]
    }
   ],
   "source": [
    "person1 = People(\"Andres\", 23)\n",
    "person1.print_age()"
   ]
  },
  {
   "cell_type": "code",
   "execution_count": 23,
   "metadata": {},
   "outputs": [
    {
     "name": "stdout",
     "output_type": "stream",
     "text": [
      "Andres is 23 years old\n",
      "Andres was born in january\n",
      "Hi Andres, how are you?\n",
      "january\n"
     ]
    }
   ],
   "source": [
    "person1 = People(\"Andres\", 23)\n",
    "person1.print_greetings()\n",
    "person1.print_age('january')\n"
   ]
  },
  {
   "cell_type": "markdown",
   "metadata": {},
   "source": [
    "So far, we have discussed about *instances attributes*, that is, attributes that are different for every instance of the class. It is also possible to define *class attributes*, or attributes that will be shared by all the instances."
   ]
  },
  {
   "cell_type": "code",
   "execution_count": 32,
   "metadata": {},
   "outputs": [],
   "source": [
    "class People (): #note the class is a python keyword\n",
    "    \n",
    "    numberofpeople = 0\n",
    "    \n",
    "    def __init__(self, name, age):\n",
    "        \n",
    "        self.name = name\n",
    "        self.age = age\n",
    "        #everytime that an instance is created, the attribute will change \n",
    "        People.numberofpeople +=1 \n",
    "        \n",
    "    def print_greetings(self):\n",
    "        print(f\"Hi {self.name}, how are you?\")\n",
    "        \n",
    "    def print_age(self, month=None):\n",
    "        print(f\"{self.name} is {self.age} years old\")\n",
    "        if month:\n",
    "            print(f\"{self.name} was born in {month}\")\n",
    "    \n",
    "    def how_many_people(self):\n",
    "        print(f\"There are {People.numberofpeople} in the group\")"
   ]
  },
  {
   "cell_type": "code",
   "execution_count": 33,
   "metadata": {},
   "outputs": [
    {
     "name": "stdout",
     "output_type": "stream",
     "text": [
      "There are 2 in the group\n",
      "There are 2 in the group\n",
      "There are 4 in the group\n"
     ]
    }
   ],
   "source": [
    "person1 = People(\"Andres\", 34)\n",
    "person2 = People(\"Miguel\", 44)\n",
    "person1.how_many_people()\n",
    "person2.how_many_people()\n",
    "person3 = People(\"Will\", 32)\n",
    "person4 = People(\"Matt\", 12)\n",
    "person4.how_many_people()"
   ]
  },
  {
   "cell_type": "markdown",
   "metadata": {},
   "source": [
    "### Inheritance\n",
    "\n",
    "The main reason for using ```classes``` is the ability to easily reuse the code without having to do any modification \n",
    "\n",
    "\n",
    "Lets create a class called Sensor that stores and displays some data "
   ]
  },
  {
   "cell_type": "code",
   "execution_count": 34,
   "metadata": {},
   "outputs": [],
   "source": [
    "class Sensor():\n",
    "    def __init__(self, name, location, record_date):\n",
    "        self.name = name\n",
    "        self.location = location\n",
    "        self.record_date = record_date\n",
    "        self.data = {}\n",
    "        \n",
    "    def add_data(self, t, data):\n",
    "        self.data['time'] = t\n",
    "        self.data['data'] = data\n",
    "        print(f'We have {len(data)} points saved')        \n",
    "        \n",
    "    def clear_data(self):\n",
    "        self.data = {}\n",
    "        print('Data cleared!')"
   ]
  },
  {
   "cell_type": "code",
   "execution_count": 35,
   "metadata": {},
   "outputs": [
    {
     "name": "stdout",
     "output_type": "stream",
     "text": [
      "We have 10 points saved\n"
     ]
    },
    {
     "data": {
      "text/plain": [
       "{'time': array([0, 1, 2, 3, 4, 5, 6, 7, 8, 9]),\n",
       " 'data': array([-7, -8,  9, -1,  7, -2,  7,  3,  0,  0])}"
      ]
     },
     "execution_count": 35,
     "metadata": {},
     "output_type": "execute_result"
    }
   ],
   "source": [
    "import numpy as np\n",
    "\n",
    "sensor1 = Sensor('sensor1', 'Melbourne', '2021-10-26')\n",
    "data = np.random.randint(-10, 10, 10)\n",
    "sensor1.add_data(np.arange(10), data)\n",
    "sensor1.data"
   ]
  },
  {
   "cell_type": "markdown",
   "metadata": {},
   "source": [
    "Now we can create a new class that inherits the methods and attributes from Sensor and adds more"
   ]
  },
  {
   "cell_type": "code",
   "execution_count": 36,
   "metadata": {},
   "outputs": [],
   "source": [
    "class Accelerometer(Sensor): # note that Sensor was previously defined\n",
    "    \n",
    "    def show_type(self):\n",
    "        print('I am an accelerometer!')"
   ]
  },
  {
   "cell_type": "code",
   "execution_count": 37,
   "metadata": {},
   "outputs": [
    {
     "name": "stdout",
     "output_type": "stream",
     "text": [
      "I am an accelerometer!\n",
      "We have 10 points saved\n"
     ]
    },
    {
     "data": {
      "text/plain": [
       "{'time': array([0, 1, 2, 3, 4, 5, 6, 7, 8, 9]),\n",
       " 'data': array([ 5, -4, -5,  1,  4,  3,  8, -5, -7,  1])}"
      ]
     },
     "execution_count": 37,
     "metadata": {},
     "output_type": "execute_result"
    }
   ],
   "source": [
    "acc = Accelerometer('acc1', 'Melbourne', '2021-10-25')\n",
    "acc.show_type()\n",
    "data = np.random.randint(-10, 10, 10)\n",
    "acc.add_data(np.arange(10), data)\n",
    "acc.data"
   ]
  },
  {
   "cell_type": "markdown",
   "metadata": {},
   "source": [
    "You can also override the methods from the parent class"
   ]
  },
  {
   "cell_type": "code",
   "execution_count": 40,
   "metadata": {},
   "outputs": [
    {
     "name": "stdout",
     "output_type": "stream",
     "text": [
      "I am UCBAcc, created at Melbourne!\n"
     ]
    }
   ],
   "source": [
    "class UCBAcc(Accelerometer):\n",
    "    \n",
    "    def show_type(self):\n",
    "        print(f'I am {self.name}, created at Melbourne!')\n",
    "        \n",
    "acc_ucb = UCBAcc('UCBAcc', 'Melbourne', '2021-10-25')\n",
    "acc_ucb.show_type()"
   ]
  },
  {
   "cell_type": "markdown",
   "metadata": {},
   "source": [
    "You can also extend the attributes of your new class using the ```super``` method. "
   ]
  },
  {
   "cell_type": "code",
   "execution_count": 41,
   "metadata": {},
   "outputs": [],
   "source": [
    "class NewSensor(Sensor):\n",
    "    def __init__(self, name, location, record_date, quality_control):\n",
    "        super().__init__(name, location,record_date)\n",
    "        \n",
    "        self.quality_control=quality_control \n",
    "        \n",
    "\n",
    "    def quality(self):\n",
    "        if self.quality_control is True:\n",
    "            print(f'Sensor {self.name} passed')\n",
    "        else:\n",
    "            print(f'Sensor {self.name} did not pass')"
   ]
  },
  {
   "cell_type": "code",
   "execution_count": 42,
   "metadata": {},
   "outputs": [
    {
     "name": "stdout",
     "output_type": "stream",
     "text": [
      "Sensor 001 passed\n"
     ]
    }
   ],
   "source": [
    "new_sensor = NewSensor('001', 'Orlando','2021-10-25', True)\n",
    "new_sensor.quality()"
   ]
  },
  {
   "cell_type": "markdown",
   "metadata": {},
   "source": [
    "### Special methods\n",
    "\n",
    "classes can have special methods that have well define functions. These methods start with the ```__```. These methods are not needed to create the class and can be ignored"
   ]
  },
  {
   "cell_type": "code",
   "execution_count": 44,
   "metadata": {},
   "outputs": [],
   "source": [
    "#a class without __init__\n",
    "\n",
    "class example():\n",
    "    \n",
    "    def method1(self,input1):\n",
    "        self.input1 = input1\n",
    "        \n",
    "        \n",
    "    def method2(self):\n",
    "        print(f\"This is the input {self.input1}\")"
   ]
  },
  {
   "cell_type": "code",
   "execution_count": 45,
   "metadata": {},
   "outputs": [
    {
     "name": "stdout",
     "output_type": "stream",
     "text": [
      "This is the input 4\n"
     ]
    }
   ],
   "source": [
    "ex = example()\n",
    "ex.method1(4)\n",
    "ex.method2()"
   ]
  },
  {
   "cell_type": "code",
   "execution_count": 46,
   "metadata": {},
   "outputs": [],
   "source": [
    "#the __call__ method allows you to perform \n",
    "#operations without calling specific methods\n",
    "\n",
    "class example():\n",
    "    \n",
    "    def __init__(self, input1):\n",
    "        self.input1 = input1\n",
    "    \n",
    "    def __call__(self):\n",
    "        print(\"Thank you for creating an instance\")\n",
    "        self.method2()\n",
    "        \n",
    "    def method2(self):\n",
    "        print(f\"This is the input {self.input1}\")"
   ]
  },
  {
   "cell_type": "code",
   "execution_count": 47,
   "metadata": {},
   "outputs": [
    {
     "name": "stdout",
     "output_type": "stream",
     "text": [
      "Thank you for creating an instance\n",
      "This is the input 4\n"
     ]
    }
   ],
   "source": [
    "ex1 = example(4)\n",
    "ex1()"
   ]
  },
  {
   "cell_type": "markdown",
   "metadata": {},
   "source": [
    "## Activity \n",
    "\n",
    "Create your own 'vector' class. The class should take a list of numbers and include methods to compute the length, the maximum value, the minimum value, the mean, and the standard deviation."
   ]
  },
  {
   "cell_type": "code",
   "execution_count": null,
   "metadata": {},
   "outputs": [],
   "source": [
    "class Vector():\n",
    "    \n",
    "    def __init__(self, list_of_numbers):\n",
    "        \n",
    "        self.list_of_numbers = list_of_numbers\n",
    "        self.len = None\n",
    "        self.mea = None\n",
    "        \n",
    "    def Length(self):\n",
    "        self.len = len(self.list_of_numbers)\n",
    "        #return self.len\n",
    "    \n",
    "    def Mean(self):\n",
    "        Vector.Length(self)\n",
    "        self.mea = sum(self.list_of_numbers)/self.len\n",
    "        print(self.mea)"
   ]
  },
  {
   "cell_type": "code",
   "execution_count": null,
   "metadata": {},
   "outputs": [],
   "source": [
    "vector1 = Vector([4,4,5,6,2])\n",
    "vector1.Mean()"
   ]
  },
  {
   "cell_type": "code",
   "execution_count": null,
   "metadata": {},
   "outputs": [],
   "source": []
  }
 ],
 "metadata": {
  "kernelspec": {
   "display_name": "Python 3",
   "language": "python",
   "name": "python3"
  },
  "language_info": {
   "codemirror_mode": {
    "name": "ipython",
    "version": 3
   },
   "file_extension": ".py",
   "mimetype": "text/x-python",
   "name": "python",
   "nbconvert_exporter": "python",
   "pygments_lexer": "ipython3",
   "version": "3.8.3"
  }
 },
 "nbformat": 4,
 "nbformat_minor": 4
}
