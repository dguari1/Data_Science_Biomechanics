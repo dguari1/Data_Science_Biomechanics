{
 "cells": [
  {
   "cell_type": "markdown",
   "metadata": {},
   "source": [
    "# BME 4050 / BME 5790  - Spring 2022\n",
    "\n",
    "# Assignment # 1 \n",
    "\n",
    "Please submit your assignment as a jupyter (.ipynb) or pdf file \n",
    "\n",
    "1) Start a new jupyter notebook and name it \"YourName_Assignment 1\"\n",
    "\n",
    "Replace *YourName* by your first name and last name\n",
    "\n",
    "2) In a new cell print\n",
    "``` python\n",
    "I love learning Python\n",
    "```\n",
    "\n",
    "\n",
    "3) Compute the following expression \n",
    "``` python\n",
    "4 + 5 * 3 - 6 / 2 \n",
    "```\n",
    "\n",
    "Briefly explain your results. \n",
    "\n",
    "Hint: Google ***Python Operator Precedence***\n",
    "\n",
    "4) Modify the previous expression by adding a set of parenthesis '( )' so that the result of the operation is $-3.5$. Briefly explain your results\n",
    "\n",
    "5) use the math or numpy libraries to compute the $\\sin(89°)$. \n",
    "\n",
    "Hint: The outcome should be very close to 1\n",
    "\n",
    "6) The hyperbolic $\\sin$ or $\\sinh$ is defined in terms of exponentials as \n",
    "$$\n",
    "\\sinh(x)=\\frac{\\exp(x)−\\exp(−x)}{2}.\n",
    "$$\n",
    "\n",
    "Compute $\\sinh$ for $x=2$ using exponentials. Verify that the result is indeed the hyperbolic $sin$ using Python’s function $sinh$ in the math or numpy libraries.\n",
    "\n",
    "57) Compute the following expression\n",
    "$$\n",
    "e^2 \\sin(\\pi/6) + log_e(3)\\cos(\\pi/9)-5^3\n",
    "$$\n",
    "\n",
    "8) If $P$ is a logical expression (True or False), the law of noncontradiction states that $P \\ AND \\ (NOT \\ P)$ is always false. Verify this for $P$ true and $P$ false.\n",
    "\n",
    "9) The $OR$ truth table is give by:\n",
    "\n",
    "| P   | Q | P or Q |\n",
    "| ----- | ----- | ----- |\n",
    "| True  | True  | True  |\n",
    "| True  | False | True  |\n",
    "| False | True  | True  |\n",
    "| False | False | False |\n",
    "\n",
    "Construct an equivalent Truth table using only $AND$ and $NOT$.\n",
    "\n",
    "10) The $AND$ truth table is give by:\n",
    "\n",
    "| P   | Q | P and Q |\n",
    "| ----- | ----- | ----- |\n",
    "| True  | True  | True  |\n",
    "| True  | False | False  |\n",
    "| False | True  | False  |\n",
    "| False | False | False |\n",
    "\n",
    "Construct an equivalent Truth table using only $OR$ and $NOT$. "
   ]
  },
  {
   "cell_type": "code",
   "execution_count": 12,
   "metadata": {},
   "outputs": [
    {
     "data": {
      "text/plain": [
       "16.0"
      ]
     },
     "execution_count": 12,
     "metadata": {},
     "output_type": "execute_result"
    }
   ],
   "source": [
    "#3 \n",
    "4 + 5 * 3 - 6 / 2 "
   ]
  },
  {
   "cell_type": "code",
   "execution_count": 13,
   "metadata": {},
   "outputs": [
    {
     "data": {
      "text/plain": [
       "-3.5"
      ]
     },
     "execution_count": 13,
     "metadata": {},
     "output_type": "execute_result"
    }
   ],
   "source": [
    "#4\n",
    "4 + 5 *(3 - 6) / 2 "
   ]
  },
  {
   "cell_type": "code",
   "execution_count": 14,
   "metadata": {},
   "outputs": [
    {
     "data": {
      "text/plain": [
       "0.9998476951563913"
      ]
     },
     "execution_count": 14,
     "metadata": {},
     "output_type": "execute_result"
    }
   ],
   "source": [
    "#5\n",
    "import math\n",
    "math.sin(89*math.pi/180)"
   ]
  },
  {
   "cell_type": "code",
   "execution_count": 15,
   "metadata": {},
   "outputs": [
    {
     "data": {
      "text/plain": [
       "(3.626860407847019, 3.6268604078470186)"
      ]
     },
     "execution_count": 15,
     "metadata": {},
     "output_type": "execute_result"
    }
   ],
   "source": [
    "#6\n",
    "import math\n",
    "(math.exp(2)-math.exp(-2))/2, math.sinh(2)"
   ]
  },
  {
   "cell_type": "code",
   "execution_count": 16,
   "metadata": {},
   "outputs": [
    {
     "data": {
      "text/plain": [
       "-120.27311408976854"
      ]
     },
     "execution_count": 16,
     "metadata": {},
     "output_type": "execute_result"
    }
   ],
   "source": [
    "#7\n",
    "import math\n",
    "math.exp(2)*math.sin(math.pi/6) + math.log(3)*math.cos(math.pi/9)  - 5**3"
   ]
  },
  {
   "cell_type": "code",
   "execution_count": 17,
   "metadata": {},
   "outputs": [
    {
     "data": {
      "text/plain": [
       "(False, False)"
      ]
     },
     "execution_count": 17,
     "metadata": {},
     "output_type": "execute_result"
    }
   ],
   "source": [
    "#8\n",
    "True and (not True), False and (not False)"
   ]
  },
  {
   "cell_type": "code",
   "execution_count": 1,
   "metadata": {},
   "outputs": [
    {
     "data": {
      "text/plain": [
       "(True, True, True, False)"
      ]
     },
     "execution_count": 1,
     "metadata": {},
     "output_type": "execute_result"
    }
   ],
   "source": [
    "#9\n",
    "#truth table for OR\n",
    "\n",
    "#True or True -> True\n",
    "#True or False -> True \n",
    "#False or True -> True \n",
    "#False or False -> False \n",
    "\n",
    "#it should be False only if both are False\n",
    "#the equivalent is: (not P) and  (not Q)\n",
    "\n",
    "not((not True) and (not True)), not((not True) and (not False)), not((not False) and (not True)), not((not False) and (not False))\n"
   ]
  },
  {
   "cell_type": "code",
   "execution_count": 31,
   "metadata": {},
   "outputs": [
    {
     "data": {
      "text/plain": [
       "(True, False, False, False)"
      ]
     },
     "execution_count": 31,
     "metadata": {},
     "output_type": "execute_result"
    }
   ],
   "source": [
    "#10\n",
    "#truth table for AND\n",
    "\n",
    "#True and True -> True\n",
    "#True and False -> False \n",
    "#False and True -> False \n",
    "#False and False -> False \n",
    "\n",
    "#it should be True only if both are True\n",
    "#the equivalent is: not ((not P) or (not Q))\n",
    "\n",
    "not ((not True) or (not True)), not((not True) or (not False)), not((not False) or (not True)), not ((not False) or (not False))\n"
   ]
  }
 ],
 "metadata": {
  "kernelspec": {
   "display_name": "Python 3",
   "language": "python",
   "name": "python3"
  },
  "language_info": {
   "codemirror_mode": {
    "name": "ipython",
    "version": 3
   },
   "file_extension": ".py",
   "mimetype": "text/x-python",
   "name": "python",
   "nbconvert_exporter": "python",
   "pygments_lexer": "ipython3",
   "version": "3.8.3"
  }
 },
 "nbformat": 4,
 "nbformat_minor": 5
}
