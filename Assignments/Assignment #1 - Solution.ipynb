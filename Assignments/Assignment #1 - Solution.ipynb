{
 "cells": [
  {
   "cell_type": "markdown",
   "metadata": {},
   "source": [
    "# PET5936  - Spring 2023\n",
    "\n",
    "# Assignment # 1 \n",
    "\n",
    "Please submit your assignment as a jupyter (.ipynb) or pdf file \n",
    "\n",
    "1) Start a new jupyter notebook and name it \"YourName_Assignment_1\"\n",
    "\n",
    "Replace *YourName* by your first name and last name\n",
    "\n",
    "2) In a new cell print\n",
    "``` python\n",
    "I love learning Python\n",
    "```\n",
    "\n",
    "\n",
    "3) Compute the following expressions \n",
    "``` python\n",
    "4 + 5 * 3 - 6 / 2\n",
    "```\n",
    "\n",
    "Briefly explain your results. \n",
    "\n",
    "Hint: Google ***Python Operator Precedence***\n",
    "\n",
    "4) Modify the previous expression by adding a set of parenthesis '( )' so that the result of the operation is `-3.5`. Briefly explain your results\n",
    "\n",
    "5) use the math or numpy libraries to compute the $\\sin(89°)$. \n",
    "\n",
    "Hint: Remember that the input to the sin function should be in radians. The output should be very close to 1\n",
    "\n",
    "6) The hyperbolic $\\sin$ or `sinh` is defined in terms of exponentials as \n",
    "$$\n",
    "\\sinh(x)=\\frac{\\exp(x)−\\exp(−x)}{2}.\n",
    "$$\n",
    "\n",
    "Compute $\\sinh$ for $x=2$ using exponentials. Verify that the result is indeed the hyperbolic $sin$ using Python’s function $sinh$ in the math or numpy libraries.\n",
    "\n",
    "7) Compute the following expression\n",
    "$$\n",
    "e^2 \\sin(\\pi/6) + log_e(3)\\cos(\\pi/9)-5^3\n",
    "$$\n",
    "\n",
    "8) Load the data provided in `file.txt` in a variable (`mylist`) using the following code:\n",
    "```Python \n",
    "file = open(\"file.txt\", \"r\")\n",
    "data = file.read()\n",
    "ls = data.split(\"\\n\")\n",
    "ls.pop()\n",
    "mylist = [eval(i) for i in ls]\n",
    "file.close()\n",
    "```\n",
    "\n",
    "Hint: The file must be in the same folder as your jupyter notebook\n",
    "\n",
    "    a. How many elements are in the list? \n",
    "    b. What is the largest and smaller numbers of the list? \n",
    "    c. What is the sum of the 10 largest numbers in the list? (you can use sum() to add elements in a list)\n",
    "    d. Are there any repeated numbers in the list? "
   ]
  },
  {
   "cell_type": "code",
   "execution_count": 12,
   "metadata": {},
   "outputs": [
    {
     "data": {
      "text/plain": [
       "16.0"
      ]
     },
     "execution_count": 12,
     "metadata": {},
     "output_type": "execute_result"
    }
   ],
   "source": [
    "#3 \n",
    "4 + 5 * 3 - 6 / 2 "
   ]
  },
  {
   "cell_type": "code",
   "execution_count": 13,
   "metadata": {},
   "outputs": [
    {
     "data": {
      "text/plain": [
       "-3.5"
      ]
     },
     "execution_count": 13,
     "metadata": {},
     "output_type": "execute_result"
    }
   ],
   "source": [
    "#4\n",
    "4 + 5 *(3 - 6) / 2 "
   ]
  },
  {
   "cell_type": "code",
   "execution_count": 14,
   "metadata": {},
   "outputs": [
    {
     "data": {
      "text/plain": [
       "0.9998476951563913"
      ]
     },
     "execution_count": 14,
     "metadata": {},
     "output_type": "execute_result"
    }
   ],
   "source": [
    "#5\n",
    "import math\n",
    "math.sin(89*math.pi/180)"
   ]
  },
  {
   "cell_type": "code",
   "execution_count": 15,
   "metadata": {},
   "outputs": [
    {
     "data": {
      "text/plain": [
       "(3.626860407847019, 3.6268604078470186)"
      ]
     },
     "execution_count": 15,
     "metadata": {},
     "output_type": "execute_result"
    }
   ],
   "source": [
    "#6\n",
    "import math\n",
    "(math.exp(2)-math.exp(-2))/2, math.sinh(2)"
   ]
  },
  {
   "cell_type": "code",
   "execution_count": 16,
   "metadata": {},
   "outputs": [
    {
     "data": {
      "text/plain": [
       "-120.27311408976854"
      ]
     },
     "execution_count": 16,
     "metadata": {},
     "output_type": "execute_result"
    }
   ],
   "source": [
    "#7\n",
    "import math\n",
    "math.exp(2)*math.sin(math.pi/6) + math.log(3)*math.cos(math.pi/9)  - 5**3"
   ]
  },
  {
   "cell_type": "code",
   "execution_count": 17,
   "metadata": {},
   "outputs": [
    {
     "data": {
      "text/plain": [
       "(False, False)"
      ]
     },
     "execution_count": 17,
     "metadata": {},
     "output_type": "execute_result"
    }
   ],
   "source": [
    "#8\n",
    "True and (not True), False and (not False)"
   ]
  },
  {
   "cell_type": "code",
   "execution_count": 1,
   "metadata": {},
   "outputs": [
    {
     "data": {
      "text/plain": [
       "(True, True, True, False)"
      ]
     },
     "execution_count": 1,
     "metadata": {},
     "output_type": "execute_result"
    }
   ],
   "source": [
    "#9\n",
    "#truth table for OR\n",
    "\n",
    "#True or True -> True\n",
    "#True or False -> True \n",
    "#False or True -> True \n",
    "#False or False -> False \n",
    "\n",
    "#it should be False only if both are False\n",
    "#the equivalent is: (not P) and  (not Q)\n",
    "\n",
    "not((not True) and (not True)), not((not True) and (not False)), not((not False) and (not True)), not((not False) and (not False))\n"
   ]
  },
  {
   "cell_type": "code",
   "execution_count": 31,
   "metadata": {},
   "outputs": [
    {
     "data": {
      "text/plain": [
       "(True, False, False, False)"
      ]
     },
     "execution_count": 31,
     "metadata": {},
     "output_type": "execute_result"
    }
   ],
   "source": [
    "#10\n",
    "#truth table for AND\n",
    "\n",
    "#True and True -> True\n",
    "#True and False -> False \n",
    "#False and True -> False \n",
    "#False and False -> False \n",
    "\n",
    "#it should be True only if both are True\n",
    "#the equivalent is: not ((not P) or (not Q))\n",
    "\n",
    "not ((not True) or (not True)), not((not True) or (not False)), not((not False) or (not True)), not ((not False) or (not False))\n"
   ]
  },
  {
   "cell_type": "code",
   "execution_count": 60,
   "metadata": {},
   "outputs": [],
   "source": [
    "import random\n",
    "l = random.sample(range(1000), 100)\n",
    "with open(\"file.txt\", \"w\") as output:\n",
    "    for item in l :\n",
    "        # write each item on a new line\n",
    "        output.write(str(item)+'\\n')"
   ]
  },
  {
   "cell_type": "code",
   "execution_count": 11,
   "metadata": {},
   "outputs": [],
   "source": [
    "file = open(\"file.txt\", \"r\")\n",
    "data = file.read()\n",
    "ls = data.split(\"\\n\")\n",
    "ls.pop()\n",
    "mylist = [eval(i) for i in ls]\n",
    "file.close()"
   ]
  },
  {
   "cell_type": "code",
   "execution_count": 13,
   "metadata": {},
   "outputs": [
    {
     "data": {
      "text/plain": [
       "[219,\n",
       " 818,\n",
       " 531,\n",
       " 660,\n",
       " 756,\n",
       " 230,\n",
       " 229,\n",
       " 179,\n",
       " 356,\n",
       " 132,\n",
       " 829,\n",
       " 410,\n",
       " 770,\n",
       " 445,\n",
       " 326,\n",
       " 200,\n",
       " 197,\n",
       " 826,\n",
       " 882,\n",
       " 883,\n",
       " 206,\n",
       " 83,\n",
       " 19,\n",
       " 352,\n",
       " 449,\n",
       " 812,\n",
       " 94,\n",
       " 115,\n",
       " 95,\n",
       " 870,\n",
       " 825,\n",
       " 497,\n",
       " 906,\n",
       " 593,\n",
       " 988,\n",
       " 637,\n",
       " 350,\n",
       " 913,\n",
       " 56,\n",
       " 782,\n",
       " 626,\n",
       " 424,\n",
       " 470,\n",
       " 956,\n",
       " 729,\n",
       " 133,\n",
       " 136,\n",
       " 237,\n",
       " 525,\n",
       " 917,\n",
       " 377,\n",
       " 419,\n",
       " 107,\n",
       " 213,\n",
       " 834,\n",
       " 473,\n",
       " 835,\n",
       " 222,\n",
       " 39,\n",
       " 69,\n",
       " 257,\n",
       " 362,\n",
       " 242,\n",
       " 866,\n",
       " 786,\n",
       " 727,\n",
       " 832,\n",
       " 604,\n",
       " 341,\n",
       " 546,\n",
       " 347,\n",
       " 166,\n",
       " 201,\n",
       " 84,\n",
       " 85,\n",
       " 186,\n",
       " 963,\n",
       " 731,\n",
       " 641,\n",
       " 680,\n",
       " 935,\n",
       " 959,\n",
       " 252,\n",
       " 283,\n",
       " 980,\n",
       " 701,\n",
       " 438,\n",
       " 258,\n",
       " 223,\n",
       " 294,\n",
       " 260,\n",
       " 953,\n",
       " 863,\n",
       " 165,\n",
       " 984,\n",
       " 461,\n",
       " 464,\n",
       " 392,\n",
       " 954,\n",
       " 430]"
      ]
     },
     "execution_count": 13,
     "metadata": {},
     "output_type": "execute_result"
    }
   ],
   "source": [
    "mylist"
   ]
  },
  {
   "cell_type": "code",
   "execution_count": 64,
   "metadata": {},
   "outputs": [
    {
     "data": {
      "text/plain": [
       "''"
      ]
     },
     "execution_count": 64,
     "metadata": {},
     "output_type": "execute_result"
    }
   ],
   "source": [
    "data"
   ]
  },
  {
   "cell_type": "code",
   "execution_count": null,
   "metadata": {},
   "outputs": [],
   "source": []
  }
 ],
 "metadata": {
  "kernelspec": {
   "display_name": "Python 3",
   "language": "python",
   "name": "python3"
  },
  "language_info": {
   "codemirror_mode": {
    "name": "ipython",
    "version": 3
   },
   "file_extension": ".py",
   "mimetype": "text/x-python",
   "name": "python",
   "nbconvert_exporter": "python",
   "pygments_lexer": "ipython3",
   "version": "3.8.3"
  }
 },
 "nbformat": 4,
 "nbformat_minor": 5
}
