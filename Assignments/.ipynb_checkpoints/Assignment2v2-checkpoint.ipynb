{
 "cells": [
  {
   "cell_type": "markdown",
   "id": "a8ec2917-e819-40d9-98af-967676cb07c1",
   "metadata": {},
   "source": [
    "# PET5936 - Spring 2023\n",
    "\n",
    "# Assignment # 2 \n",
    "\n",
    "Please submit your assignment as a jupyter  notebook (.ipynb file). Start a new jupyter notebook and name it \"YourName_Assignment 2\"\n",
    "\n",
    "Replace *YourName* by your first name and last name\n",
    "\n",
    "\n",
    "Description: This assignment will assess your ability to use loops and functions to solve programming challenges. Some of the points will also requiere to use list/dictionaries to succesfully complete the task. Finally, the last point will help you to practice the concepts related to object oriented programming and developing simple user interfaces. \n",
    "\n",
    "1. [2 points] Write a function with one input, the input should be a string variable. Words in the string variable are separated by ```' '```. Your function should count:\n",
    "- The number of words in the sentence\n",
    "- The number of characters in the sentence (without including ```' '```)\n",
    "- The number of instances that every letter of the alphabet appears in the sentence\n",
    "\n",
    "2. [2 points] Write a function with one input, the input should be a string variable. Words in the string variable are separated by ```' '```. Your function should identify if there are numbers in the sentence. If there are numbers, then the function must return the sum. \n",
    "\n",
    "Example: \n",
    "```\n",
    "- Input: 'There are 3 friends with me, 2 of us are older than 18'\n",
    "- Output: 23\n",
    "```\n",
    "\n",
    "```\n",
    "- Input: 'My online friend, XX_SAM2000_XX is turning 18 next week'\n",
    "- Output: 2018\n",
    "```\n",
    "3. [2 points] Write a function with one input, the input should be a string representing a date using the following format: month (two digits)/ day (two digits) / year (four digits). The function should ensure that the inputs are valid, for example\n",
    "\n",
    "- 01/20/1985 -> valid input\n",
    "- 02/30/2022 -> not valid input (month 02 only has 28 or 29 days)\n",
    "- 15/12/2000 -> not valid input (month 15 is not valid)\n",
    "\n",
    "    Your function should return the number of days since the provided date until today.\n",
    "\n",
    "    Hints:\n",
    "    - You can find today's date using the following code:\n",
    "    ```python\n",
    "    from datetime import date\n",
    "    today = date.today().strftime(\"%m/%d/%y\")\n",
    "    ```\n",
    "    - A leap year is a year that is divisible by four. \n",
    "\n",
    "4. [4 points] Create a Grafical User Interface that allow users to compute their Body Mass Index (BMI). The GUI should allow users to input their height (feet and inches) and weight (pounds) and compute their BMI as \n",
    "\n",
    "    ```python\n",
    "    BMI =703*(weight)*(height**2) \n",
    "    ```\n",
    "    \n",
    "\n",
    "    weigth should be provided in pounds and height in inches. \n",
    "\n",
    "    Extra Credit [2 points] - allow users to provide their measurements in imperial units (feet/inches and pounds) or metric units (meters/centimenters and kilograms)\n",
    "    \n"
   ]
  },
  {
   "cell_type": "code",
   "execution_count": null,
   "id": "3922a85d-5e8f-46f5-ad7e-488d3663c523",
   "metadata": {},
   "outputs": [],
   "source": []
  }
 ],
 "metadata": {
  "kernelspec": {
   "display_name": "Python 3 (ipykernel)",
   "language": "python",
   "name": "python3"
  },
  "language_info": {
   "codemirror_mode": {
    "name": "ipython",
    "version": 3
   },
   "file_extension": ".py",
   "mimetype": "text/x-python",
   "name": "python",
   "nbconvert_exporter": "python",
   "pygments_lexer": "ipython3",
   "version": "3.9.7"
  }
 },
 "nbformat": 4,
 "nbformat_minor": 5
}
